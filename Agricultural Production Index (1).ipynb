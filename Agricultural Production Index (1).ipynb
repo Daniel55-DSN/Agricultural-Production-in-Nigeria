{
 "cells": [
  {
   "cell_type": "code",
   "execution_count": 199,
   "metadata": {},
   "outputs": [],
   "source": [
    "import numpy as np\n",
    "import pandas as pd\n",
    "import matplotlib.pyplot as plt\n",
    "import seaborn as sns\n",
    "import math\n",
    "%matplotlib inline"
   ]
  },
  {
   "cell_type": "code",
   "execution_count": null,
   "metadata": {},
   "outputs": [],
   "source": []
  },
  {
   "cell_type": "code",
   "execution_count": 200,
   "metadata": {},
   "outputs": [
    {
     "name": "stdout",
     "output_type": "stream",
     "text": [
      "  Domain     Area         Element                 Crop  Year  Harvested Area\n",
      "0  Crops  Nigeria  Area harvested  Carrots and turnips  1971           20000\n",
      "1  Crops  Nigeria  Area harvested  Carrots and turnips  1972           20000\n",
      "2  Crops  Nigeria  Area harvested  Carrots and turnips  1973           20000\n",
      "3  Crops  Nigeria  Area harvested  Carrots and turnips  1974           20000\n",
      "4  Crops  Nigeria  Area harvested  Carrots and turnips  1975           20000\n"
     ]
    }
   ],
   "source": [
    "harvested_data = pd.read_csv('FAOSTAT_data_3-11-2020.csv')\n",
    "harvested_data.dropna(inplace=True)\n",
    "harvested_data.columns =['Domain','Area','Element','Crop','Year','Harvested Area']\n",
    "print(harvested_data.head())"
   ]
  },
  {
   "cell_type": "code",
   "execution_count": 201,
   "metadata": {},
   "outputs": [],
   "source": [
    "harvested_data.drop([\"Domain\",\"Element\"],axis=1,inplace = True)"
   ]
  },
  {
   "cell_type": "code",
   "execution_count": 202,
   "metadata": {},
   "outputs": [
    {
     "data": {
      "text/html": [
       "<div>\n",
       "<style scoped>\n",
       "    .dataframe tbody tr th:only-of-type {\n",
       "        vertical-align: middle;\n",
       "    }\n",
       "\n",
       "    .dataframe tbody tr th {\n",
       "        vertical-align: top;\n",
       "    }\n",
       "\n",
       "    .dataframe thead th {\n",
       "        text-align: right;\n",
       "    }\n",
       "</style>\n",
       "<table border=\"1\" class=\"dataframe\">\n",
       "  <thead>\n",
       "    <tr style=\"text-align: right;\">\n",
       "      <th></th>\n",
       "      <th>Domain</th>\n",
       "      <th>Area</th>\n",
       "      <th>Element</th>\n",
       "      <th>Crop</th>\n",
       "      <th>Year</th>\n",
       "      <th>Yield</th>\n",
       "    </tr>\n",
       "  </thead>\n",
       "  <tbody>\n",
       "    <tr>\n",
       "      <td>0</td>\n",
       "      <td>Crops</td>\n",
       "      <td>Nigeria</td>\n",
       "      <td>Yield</td>\n",
       "      <td>Carrots and turnips</td>\n",
       "      <td>1971</td>\n",
       "      <td>75000</td>\n",
       "    </tr>\n",
       "    <tr>\n",
       "      <td>1</td>\n",
       "      <td>Crops</td>\n",
       "      <td>Nigeria</td>\n",
       "      <td>Yield</td>\n",
       "      <td>Carrots and turnips</td>\n",
       "      <td>1972</td>\n",
       "      <td>75000</td>\n",
       "    </tr>\n",
       "    <tr>\n",
       "      <td>2</td>\n",
       "      <td>Crops</td>\n",
       "      <td>Nigeria</td>\n",
       "      <td>Yield</td>\n",
       "      <td>Carrots and turnips</td>\n",
       "      <td>1973</td>\n",
       "      <td>75000</td>\n",
       "    </tr>\n",
       "    <tr>\n",
       "      <td>3</td>\n",
       "      <td>Crops</td>\n",
       "      <td>Nigeria</td>\n",
       "      <td>Yield</td>\n",
       "      <td>Carrots and turnips</td>\n",
       "      <td>1974</td>\n",
       "      <td>75000</td>\n",
       "    </tr>\n",
       "    <tr>\n",
       "      <td>4</td>\n",
       "      <td>Crops</td>\n",
       "      <td>Nigeria</td>\n",
       "      <td>Yield</td>\n",
       "      <td>Carrots and turnips</td>\n",
       "      <td>1975</td>\n",
       "      <td>75000</td>\n",
       "    </tr>\n",
       "  </tbody>\n",
       "</table>\n",
       "</div>"
      ],
      "text/plain": [
       "  Domain     Area Element                 Crop  Year  Yield\n",
       "0  Crops  Nigeria   Yield  Carrots and turnips  1971  75000\n",
       "1  Crops  Nigeria   Yield  Carrots and turnips  1972  75000\n",
       "2  Crops  Nigeria   Yield  Carrots and turnips  1973  75000\n",
       "3  Crops  Nigeria   Yield  Carrots and turnips  1974  75000\n",
       "4  Crops  Nigeria   Yield  Carrots and turnips  1975  75000"
      ]
     },
     "execution_count": 202,
     "metadata": {},
     "output_type": "execute_result"
    }
   ],
   "source": [
    "yield_data = pd.read_csv('FAOSTAT_data_3-11-2020 (1).csv')\n",
    "yield_data.dropna(inplace=True)\n",
    "yield_data.columns =['Domain','Area','Element','Crop','Year','Yield']\n",
    "yield_data.head()\n"
   ]
  },
  {
   "cell_type": "code",
   "execution_count": 203,
   "metadata": {},
   "outputs": [],
   "source": [
    "yield_data.drop([\"Domain\",\"Element\"],axis=1,inplace = True)"
   ]
  },
  {
   "cell_type": "code",
   "execution_count": 204,
   "metadata": {},
   "outputs": [
    {
     "data": {
      "text/html": [
       "<div>\n",
       "<style scoped>\n",
       "    .dataframe tbody tr th:only-of-type {\n",
       "        vertical-align: middle;\n",
       "    }\n",
       "\n",
       "    .dataframe tbody tr th {\n",
       "        vertical-align: top;\n",
       "    }\n",
       "\n",
       "    .dataframe thead th {\n",
       "        text-align: right;\n",
       "    }\n",
       "</style>\n",
       "<table border=\"1\" class=\"dataframe\">\n",
       "  <thead>\n",
       "    <tr style=\"text-align: right;\">\n",
       "      <th></th>\n",
       "      <th>Domain</th>\n",
       "      <th>Area</th>\n",
       "      <th>Element</th>\n",
       "      <th>Crop</th>\n",
       "      <th>Year</th>\n",
       "      <th>Production</th>\n",
       "    </tr>\n",
       "  </thead>\n",
       "  <tbody>\n",
       "    <tr>\n",
       "      <td>0</td>\n",
       "      <td>Crops</td>\n",
       "      <td>Nigeria</td>\n",
       "      <td>Production</td>\n",
       "      <td>Carrots and turnips</td>\n",
       "      <td>1971</td>\n",
       "      <td>150000</td>\n",
       "    </tr>\n",
       "    <tr>\n",
       "      <td>1</td>\n",
       "      <td>Crops</td>\n",
       "      <td>Nigeria</td>\n",
       "      <td>Production</td>\n",
       "      <td>Carrots and turnips</td>\n",
       "      <td>1972</td>\n",
       "      <td>150000</td>\n",
       "    </tr>\n",
       "    <tr>\n",
       "      <td>2</td>\n",
       "      <td>Crops</td>\n",
       "      <td>Nigeria</td>\n",
       "      <td>Production</td>\n",
       "      <td>Carrots and turnips</td>\n",
       "      <td>1973</td>\n",
       "      <td>150000</td>\n",
       "    </tr>\n",
       "    <tr>\n",
       "      <td>3</td>\n",
       "      <td>Crops</td>\n",
       "      <td>Nigeria</td>\n",
       "      <td>Production</td>\n",
       "      <td>Carrots and turnips</td>\n",
       "      <td>1974</td>\n",
       "      <td>150000</td>\n",
       "    </tr>\n",
       "    <tr>\n",
       "      <td>4</td>\n",
       "      <td>Crops</td>\n",
       "      <td>Nigeria</td>\n",
       "      <td>Production</td>\n",
       "      <td>Carrots and turnips</td>\n",
       "      <td>1975</td>\n",
       "      <td>150000</td>\n",
       "    </tr>\n",
       "  </tbody>\n",
       "</table>\n",
       "</div>"
      ],
      "text/plain": [
       "  Domain     Area     Element                 Crop  Year  Production\n",
       "0  Crops  Nigeria  Production  Carrots and turnips  1971      150000\n",
       "1  Crops  Nigeria  Production  Carrots and turnips  1972      150000\n",
       "2  Crops  Nigeria  Production  Carrots and turnips  1973      150000\n",
       "3  Crops  Nigeria  Production  Carrots and turnips  1974      150000\n",
       "4  Crops  Nigeria  Production  Carrots and turnips  1975      150000"
      ]
     },
     "execution_count": 204,
     "metadata": {},
     "output_type": "execute_result"
    }
   ],
   "source": [
    "production_data = pd.read_csv('FAOSTAT_data_3-11-2020 (2).csv')\n",
    "production_data.dropna(inplace=True)\n",
    "production_data.columns =['Domain','Area','Element','Crop','Year','Production']\n",
    "production_data.head()"
   ]
  },
  {
   "cell_type": "code",
   "execution_count": 205,
   "metadata": {},
   "outputs": [],
   "source": [
    "production_data.drop([\"Domain\",\"Element\"],axis=1,inplace = True)"
   ]
  },
  {
   "cell_type": "code",
   "execution_count": 206,
   "metadata": {},
   "outputs": [
    {
     "data": {
      "text/html": [
       "<div>\n",
       "<style scoped>\n",
       "    .dataframe tbody tr th:only-of-type {\n",
       "        vertical-align: middle;\n",
       "    }\n",
       "\n",
       "    .dataframe tbody tr th {\n",
       "        vertical-align: top;\n",
       "    }\n",
       "\n",
       "    .dataframe thead th {\n",
       "        text-align: right;\n",
       "    }\n",
       "</style>\n",
       "<table border=\"1\" class=\"dataframe\">\n",
       "  <thead>\n",
       "    <tr style=\"text-align: right;\">\n",
       "      <th></th>\n",
       "      <th>Area</th>\n",
       "      <th>Crop</th>\n",
       "      <th>Year</th>\n",
       "      <th>Harvested Area</th>\n",
       "      <th>Yield</th>\n",
       "    </tr>\n",
       "  </thead>\n",
       "  <tbody>\n",
       "    <tr>\n",
       "      <td>0</td>\n",
       "      <td>Nigeria</td>\n",
       "      <td>Carrots and turnips</td>\n",
       "      <td>1971</td>\n",
       "      <td>20000</td>\n",
       "      <td>75000</td>\n",
       "    </tr>\n",
       "    <tr>\n",
       "      <td>1</td>\n",
       "      <td>Nigeria</td>\n",
       "      <td>Carrots and turnips</td>\n",
       "      <td>1972</td>\n",
       "      <td>20000</td>\n",
       "      <td>75000</td>\n",
       "    </tr>\n",
       "    <tr>\n",
       "      <td>2</td>\n",
       "      <td>Nigeria</td>\n",
       "      <td>Carrots and turnips</td>\n",
       "      <td>1973</td>\n",
       "      <td>20000</td>\n",
       "      <td>75000</td>\n",
       "    </tr>\n",
       "    <tr>\n",
       "      <td>3</td>\n",
       "      <td>Nigeria</td>\n",
       "      <td>Carrots and turnips</td>\n",
       "      <td>1974</td>\n",
       "      <td>20000</td>\n",
       "      <td>75000</td>\n",
       "    </tr>\n",
       "    <tr>\n",
       "      <td>4</td>\n",
       "      <td>Nigeria</td>\n",
       "      <td>Carrots and turnips</td>\n",
       "      <td>1975</td>\n",
       "      <td>20000</td>\n",
       "      <td>75000</td>\n",
       "    </tr>\n",
       "  </tbody>\n",
       "</table>\n",
       "</div>"
      ],
      "text/plain": [
       "      Area                 Crop  Year  Harvested Area  Yield\n",
       "0  Nigeria  Carrots and turnips  1971           20000  75000\n",
       "1  Nigeria  Carrots and turnips  1972           20000  75000\n",
       "2  Nigeria  Carrots and turnips  1973           20000  75000\n",
       "3  Nigeria  Carrots and turnips  1974           20000  75000\n",
       "4  Nigeria  Carrots and turnips  1975           20000  75000"
      ]
     },
     "execution_count": 206,
     "metadata": {},
     "output_type": "execute_result"
    }
   ],
   "source": [
    "agric_data1 = harvested_data.merge(yield_data, on = ['Area','Crop','Year'],how = 'outer')\n",
    "agric_data1.head()"
   ]
  },
  {
   "cell_type": "code",
   "execution_count": 207,
   "metadata": {},
   "outputs": [
    {
     "data": {
      "text/html": [
       "<div>\n",
       "<style scoped>\n",
       "    .dataframe tbody tr th:only-of-type {\n",
       "        vertical-align: middle;\n",
       "    }\n",
       "\n",
       "    .dataframe tbody tr th {\n",
       "        vertical-align: top;\n",
       "    }\n",
       "\n",
       "    .dataframe thead th {\n",
       "        text-align: right;\n",
       "    }\n",
       "</style>\n",
       "<table border=\"1\" class=\"dataframe\">\n",
       "  <thead>\n",
       "    <tr style=\"text-align: right;\">\n",
       "      <th></th>\n",
       "      <th>Area</th>\n",
       "      <th>Crop</th>\n",
       "      <th>Year</th>\n",
       "      <th>Harvested Area</th>\n",
       "      <th>Yield</th>\n",
       "      <th>Production</th>\n",
       "    </tr>\n",
       "  </thead>\n",
       "  <tbody>\n",
       "    <tr>\n",
       "      <td>0</td>\n",
       "      <td>Nigeria</td>\n",
       "      <td>Carrots and turnips</td>\n",
       "      <td>1971</td>\n",
       "      <td>20000</td>\n",
       "      <td>75000</td>\n",
       "      <td>150000</td>\n",
       "    </tr>\n",
       "    <tr>\n",
       "      <td>1</td>\n",
       "      <td>Nigeria</td>\n",
       "      <td>Carrots and turnips</td>\n",
       "      <td>1972</td>\n",
       "      <td>20000</td>\n",
       "      <td>75000</td>\n",
       "      <td>150000</td>\n",
       "    </tr>\n",
       "    <tr>\n",
       "      <td>2</td>\n",
       "      <td>Nigeria</td>\n",
       "      <td>Carrots and turnips</td>\n",
       "      <td>1973</td>\n",
       "      <td>20000</td>\n",
       "      <td>75000</td>\n",
       "      <td>150000</td>\n",
       "    </tr>\n",
       "    <tr>\n",
       "      <td>3</td>\n",
       "      <td>Nigeria</td>\n",
       "      <td>Carrots and turnips</td>\n",
       "      <td>1974</td>\n",
       "      <td>20000</td>\n",
       "      <td>75000</td>\n",
       "      <td>150000</td>\n",
       "    </tr>\n",
       "    <tr>\n",
       "      <td>4</td>\n",
       "      <td>Nigeria</td>\n",
       "      <td>Carrots and turnips</td>\n",
       "      <td>1975</td>\n",
       "      <td>20000</td>\n",
       "      <td>75000</td>\n",
       "      <td>150000</td>\n",
       "    </tr>\n",
       "  </tbody>\n",
       "</table>\n",
       "</div>"
      ],
      "text/plain": [
       "      Area                 Crop  Year  Harvested Area  Yield  Production\n",
       "0  Nigeria  Carrots and turnips  1971           20000  75000      150000\n",
       "1  Nigeria  Carrots and turnips  1972           20000  75000      150000\n",
       "2  Nigeria  Carrots and turnips  1973           20000  75000      150000\n",
       "3  Nigeria  Carrots and turnips  1974           20000  75000      150000\n",
       "4  Nigeria  Carrots and turnips  1975           20000  75000      150000"
      ]
     },
     "execution_count": 207,
     "metadata": {},
     "output_type": "execute_result"
    }
   ],
   "source": [
    "agric_data = agric_data1.merge(production_data, on = ['Area','Crop','Year'], how = 'outer')\n",
    "agric_data.head()"
   ]
  },
  {
   "cell_type": "code",
   "execution_count": 208,
   "metadata": {},
   "outputs": [
    {
     "name": "stdout",
     "output_type": "stream",
     "text": [
      "<class 'pandas.core.frame.DataFrame'>\n",
      "Int64Index: 1295 entries, 0 to 1294\n",
      "Data columns (total 6 columns):\n",
      "Area              1295 non-null object\n",
      "Crop              1295 non-null object\n",
      "Year              1295 non-null int64\n",
      "Harvested Area    1295 non-null int64\n",
      "Yield             1295 non-null int64\n",
      "Production        1295 non-null int64\n",
      "dtypes: int64(4), object(2)\n",
      "memory usage: 70.8+ KB\n"
     ]
    }
   ],
   "source": [
    "agric_data.info()"
   ]
  },
  {
   "cell_type": "code",
   "execution_count": 209,
   "metadata": {},
   "outputs": [
    {
     "data": {
      "text/html": [
       "<div>\n",
       "<style scoped>\n",
       "    .dataframe tbody tr th:only-of-type {\n",
       "        vertical-align: middle;\n",
       "    }\n",
       "\n",
       "    .dataframe tbody tr th {\n",
       "        vertical-align: top;\n",
       "    }\n",
       "\n",
       "    .dataframe thead th {\n",
       "        text-align: right;\n",
       "    }\n",
       "</style>\n",
       "<table border=\"1\" class=\"dataframe\">\n",
       "  <thead>\n",
       "    <tr style=\"text-align: right;\">\n",
       "      <th></th>\n",
       "      <th>count</th>\n",
       "      <th>mean</th>\n",
       "      <th>std</th>\n",
       "      <th>min</th>\n",
       "      <th>25%</th>\n",
       "      <th>50%</th>\n",
       "      <th>75%</th>\n",
       "      <th>max</th>\n",
       "    </tr>\n",
       "  </thead>\n",
       "  <tbody>\n",
       "    <tr>\n",
       "      <td>Year</td>\n",
       "      <td>1295.0</td>\n",
       "      <td>1.988000e+03</td>\n",
       "      <td>1.010341e+01</td>\n",
       "      <td>1971.0</td>\n",
       "      <td>1979.0</td>\n",
       "      <td>1988.0</td>\n",
       "      <td>1997.0</td>\n",
       "      <td>2005.0</td>\n",
       "    </tr>\n",
       "    <tr>\n",
       "      <td>Harvested Area</td>\n",
       "      <td>1295.0</td>\n",
       "      <td>6.708531e+05</td>\n",
       "      <td>1.266326e+06</td>\n",
       "      <td>160.0</td>\n",
       "      <td>43500.0</td>\n",
       "      <td>131832.0</td>\n",
       "      <td>583500.0</td>\n",
       "      <td>7284000.0</td>\n",
       "    </tr>\n",
       "    <tr>\n",
       "      <td>Yield</td>\n",
       "      <td>1295.0</td>\n",
       "      <td>4.671677e+04</td>\n",
       "      <td>6.188869e+04</td>\n",
       "      <td>1556.0</td>\n",
       "      <td>9046.5</td>\n",
       "      <td>26158.0</td>\n",
       "      <td>67632.5</td>\n",
       "      <td>410714.0</td>\n",
       "    </tr>\n",
       "    <tr>\n",
       "      <td>Production</td>\n",
       "      <td>1295.0</td>\n",
       "      <td>1.966968e+06</td>\n",
       "      <td>4.827091e+06</td>\n",
       "      <td>80.0</td>\n",
       "      <td>100000.0</td>\n",
       "      <td>436000.0</td>\n",
       "      <td>1245500.0</td>\n",
       "      <td>41565000.0</td>\n",
       "    </tr>\n",
       "  </tbody>\n",
       "</table>\n",
       "</div>"
      ],
      "text/plain": [
       "                 count          mean           std     min       25%  \\\n",
       "Year            1295.0  1.988000e+03  1.010341e+01  1971.0    1979.0   \n",
       "Harvested Area  1295.0  6.708531e+05  1.266326e+06   160.0   43500.0   \n",
       "Yield           1295.0  4.671677e+04  6.188869e+04  1556.0    9046.5   \n",
       "Production      1295.0  1.966968e+06  4.827091e+06    80.0  100000.0   \n",
       "\n",
       "                     50%        75%         max  \n",
       "Year              1988.0     1997.0      2005.0  \n",
       "Harvested Area  131832.0   583500.0   7284000.0  \n",
       "Yield            26158.0    67632.5    410714.0  \n",
       "Production      436000.0  1245500.0  41565000.0  "
      ]
     },
     "execution_count": 209,
     "metadata": {},
     "output_type": "execute_result"
    }
   ],
   "source": [
    "agric_data.describe().T"
   ]
  },
  {
   "cell_type": "code",
   "execution_count": 210,
   "metadata": {},
   "outputs": [
    {
     "data": {
      "text/plain": [
       "Area              False\n",
       "Crop              False\n",
       "Year              False\n",
       "Harvested Area    False\n",
       "Yield             False\n",
       "Production        False\n",
       "dtype: bool"
      ]
     },
     "execution_count": 210,
     "metadata": {},
     "output_type": "execute_result"
    }
   ],
   "source": [
    "agric_data.isna().any()"
   ]
  },
  {
   "cell_type": "code",
   "execution_count": 211,
   "metadata": {},
   "outputs": [
    {
     "name": "stdout",
     "output_type": "stream",
     "text": [
      "Area\n",
      "1\n",
      "['Nigeria']\n",
      "Crop\n",
      "37\n",
      "['Carrots and turnips' 'Cashew nuts, with shell' 'Cassava'\n",
      " 'Chillies and peppers, dry' 'Chillies and peppers, green' 'Cocoa, beans'\n",
      " 'Coconuts' 'Fruit, fresh nes' 'Ginger' 'Groundnuts, with shell'\n",
      " 'Kola nuts' 'Maize' 'Maize, green' 'Mangoes, mangosteens, guavas'\n",
      " 'Melonseed' 'Millet' 'Oil palm fruit' 'Okra' 'Onions, dry' 'Papayas'\n",
      " 'Pineapples' 'Plantains and others' 'Potatoes' 'Pulses nes' 'Rice, paddy'\n",
      " 'Rubber, natural' 'Sesame seed' 'Sorghum' 'Soybeans' 'Sugar cane'\n",
      " 'Sweet potatoes' 'Taro (cocoyam)' 'Tobacco, unmanufactured' 'Tomatoes'\n",
      " 'Vegetables, fresh nes' 'Wheat' 'Yams']\n",
      "Year\n",
      "35\n",
      "[1971 1972 1973 1974 1975 1976 1977 1978 1979 1980 1981 1982 1983 1984\n",
      " 1985 1986 1987 1988 1989 1990 1991 1992 1993 1994 1995 1996 1997 1998\n",
      " 1999 2000 2001 2002 2003 2004 2005]\n",
      "Harvested Area\n",
      "754\n",
      "[  20000   21000   22000   22303   21228   18000   24000   24285   24551\n",
      "   25000   26000   27000   26492   26729   27500   27159   27339   27750\n",
      "   40000   50000   75000   90000  120000  135000  155000  175000  243000\n",
      "  243200  238000  259000  265000  273000  277000  292000  309000  900000\n",
      "  960000  970000 1000000 1050000 1080000 1100000 1150000 1200000 1250000\n",
      " 1259000 1075000 1095000 1288000 1347000 1639778 1634130 2551000 2755000\n",
      " 2844000 2927000 2944000 2946000 2697400 3042500 3406000 3300000 3340000\n",
      " 3446000 3490000 3531000 3782000   23000   23300   23600   23900   24200\n",
      "   24500   24800   25100   25400   25700   26300   26600   26900   27200\n",
      "   27800   28100   28400   28700   29000   29300   29600   29900   30200\n",
      "   30500   30443   30494   30537   30410   30413   30289   30338   30368\n",
      "   30750   61000   62000   60000   64000   65000   67000   68000   69000\n",
      "   70000   77000   78000   80000   82000   84000   85000   89048   67507\n",
      "   70037   72766   89000   88706   89223   91000   90129   90639   91500\n",
      "  700000  708000  715000  726000  730000  735000  751000  788000  739000\n",
      "  743000  744500  966000 1030000 1002000 1062000 1198902   34000   30000\n",
      "   35000   32000   38000   34500   35500   37000   39000   33245   28500\n",
      "   31500   35400   35600   36000  118000  121000  124000  132000  137000\n",
      "  140000  142000  145000  148000  185000  184500  196000  198000  210000\n",
      "  197349  208520  218000  223416  229641  238082  246800  255598  258826\n",
      "  263496  284711  278150  269975  257427  239874  218500     160     200\n",
      "     400    1000    2000    6000   10000   16000   42000   56000  100000\n",
      "  110000  129000  159000  163000  166000  153000  158000  160000  162000\n",
      "  167000  170000  181000 1795000 2033000 2076000 1815000 1418000  684000\n",
      "  763000  710000  504000  563000  650000  497000  600000  594000  793000\n",
      "  597000  707000  800000 1127000 1046000 1121000 1571000 1767000 2266000\n",
      " 2251500 2604700 1929000 1934000 1731000 1878000 1985000 2097000 2187000\n",
      "  130000  150000  125000  101200  114200  115000  105000   94000   91719\n",
      "   90150   94250 1218000 1115000 1246000  579000  971000  892000  610000\n",
      "  519000  425000  465000  438000  556000 1058000 1556000 2800000 3408000\n",
      " 3212000 3590000 5104000 5142000 5223000 5309000 5426000 5472000 4273400\n",
      " 4200000 3884000 3423000 3159000 3283000 3282000 3469000 3479000 3589000\n",
      "  122000  112000   58000   97000   52000   46000   44000  106000  156000\n",
      "  172000  113000  165445  167706  169810  163546  163178  163023  162619\n",
      "  162268  161000  162748  163763  161500   81000   88000   93000   98000\n",
      "  102000  123065  125430  125403  125366  125193  125500  405000  331000\n",
      "  450000  236000  184000  164000  103000   76000   92000   54000  183000\n",
      "  308000  204000  230000  231000  253000  285000  315000  250000  305000\n",
      "  575000  580000  587000  625000  659000  694000 4789000 3690000 5651000\n",
      " 4787000 4629000 3930000 3089000 2273000 2565000 2824000 1708000 1698000\n",
      " 1773000 2133000 2346000 3917000 3829000 3563000 4067000 4778000 4560000\n",
      " 4367000 4850000 5007000 5107000 5356000 5487000 5596000 5603000 5814000\n",
      " 4254000 4490000 4536000 4620000 4685000 2150000 2000000 2100000 2300000\n",
      " 1900000 2200000 2220000 2250000 2260000 2450000 2550000 2700000 2750000\n",
      " 2938000 2950000 3000000 3080000 3180000 3320000 3350000  165000  180000\n",
      "  200000  264000  260000  231278  236317  241599  250970  259393  265206\n",
      "  245000  255000  275000  292135  298959  300000  330000  350000   36667\n",
      "   63403   67101   72572   79895   87996   97729  103980  108478  113730\n",
      "  115501  122748  128560  136778  245786  264174   45000   55000   66000\n",
      "   81263   89627   89315   89973   91054   91148   95000   99000  105505\n",
      "  105570  105641  105720  105802  105477  116747  117005  116977  116000\n",
      "  116766  116938  116500  185500  187200  143000  189000  178000  188000\n",
      "  246000  256000  268000  385000  386000  408000  426000  435000  440000\n",
      "  447000    2500    2800    3200    3400    3800    4200    4500    4800\n",
      "    5200    5500    5600    5900    7000    7600    7500    7300    8300\n",
      "    7700    9400   10400   11400   12900   13600  205000  212000  224000\n",
      "  235000  108000  109000  131832   74309   77595   80842   84048   87216\n",
      "   90345   93436   96491   99510  102492  105440  108354  111233  115144\n",
      "  119432  304000  237000  373000  269000  261000  400000  550000  630000\n",
      "  670000  745000 1041000 1652000 1208000 1664000 1564000 1714000 1796000\n",
      " 1784200 2048000 2044000 2191000 2199000 2117000 2185000 2210000 2348000\n",
      " 2494000   73000  225000  287000  297000  281000  296000  297500  333000\n",
      "  339000  339500  114000  117000  128000  103300  116700  104700   85500\n",
      "  122100  129400  126700  133000  139000  143700  151000 5387000 3791000\n",
      " 5198000 4651000 2734000 4845000 3480000 3433000 2686000 3286000 2076500\n",
      " 2290000 2280000 4410000 4862000 5147000 5131000 4776000 4953700 4185000\n",
      " 5538000 5474000 5605000 5738000 6095000 6191000 6589000 6635000 6678000\n",
      " 6885000 6437000 6849000 6935000 7031000 7284000  220000  240000  270000\n",
      "  324000  442000  750000  729000  468000  513000  543000  593000  617000\n",
      "  502000  512500  517000  540000  555000  601000   17000   17500   16500\n",
      "   19000   22500   20500   21400   22400   22100   22200   23800   18750\n",
      "   19270   21053   21900   43000   12000   11000   13000   14000   15000\n",
      "   28000   31000   51000  299000  301000  282200  817000  823000  824000\n",
      "  877000  895000  954000  989000  325000   83000  127000  141000  213000\n",
      "  226000  229000  258240  568770  572000  602000  616000  633000  640000\n",
      "  667000   38040   25500   31984   27702   19250   23880   20530   20680\n",
      "   16266   16060   13550   19500   21220   18522   18934   18158   17995\n",
      "   17463   21757   26693   31529   32500   33000   33500   36500   37500\n",
      "   63038  126000  215000  195000  380000  430000  480000  635000  620754\n",
      "  616301  660000  687012  725000   11500   10500   72000   49000   50200\n",
      " 1236000  932000  948000  671000  776000  679000  577000  471000  481000\n",
      "  498000  926000  956000  888000  816000  840000  924000  935000  921000\n",
      " 1276000 1639000 1743000 1906000 2031000 2118000 2172000 2169890 2625000\n",
      " 2613000 2647000 2677000 2794000 2828000 2837000 2957000]\n",
      "Yield\n",
      "1014\n",
      "[ 75000  79048  78636 ... 105011 112006 114981]\n",
      "Production\n",
      "851\n",
      "[  150000   166000   173000   175000   166662   139000   193000   198000\n",
      "   203000   210000   225000   231000   225440   227745   235000   232121\n",
      "   234008   237500    25000    30000    45000    55000    75000    85000\n",
      "    95000   110000   125000   152000   417000   466000   485000   514000\n",
      "   524000   555000   594000  9172000  9570000  9600000  9500000 10500000\n",
      " 11000000 12000000 11500000 11700000  9950000 11800000 12090000 12388000\n",
      " 13876000 15439000 17404000 19043008 26004000 29184000 30128000 31005000\n",
      " 31404000 31418000 32050000 32695000 32697000 32010000 32068000 34120000\n",
      " 36304000 38845000 41565000    35000    35500    36000    36500    37000\n",
      "    37500    38000    38500    39000    39500    40000    40500    41000\n",
      "    41500    42000    42500    43000    43500    44000    44500    45500\n",
      "    46000    46500    47000    47500    47467    47584    47686    47512\n",
      "    47555    47231    47413    47621    48000   495000   490000   480000\n",
      "   540000   550000   570000   590000   600000   620000   630000   635000\n",
      "   650000   670000   690000   700000   720000   750000   780000   819000\n",
      "   575000   593000   612000   633000   745000   709000   715000   715657\n",
      "   716937   717168   718409   721000   256600   241100   215000   214000\n",
      "   216000   181000   157000   151000   153000   174000   156000   140000\n",
      "   160800   160000   148000   253000   256000   244000   268000   292000\n",
      "   306000   323000   318000   370000   338000   340000   362000   385000\n",
      "   412000   441000    97000    86000    99000    90000    92000   100000\n",
      "   101000   102000   104000   105000   108000   118000   129000   135000\n",
      "   145000   149000   158000   161000   171000   182000   195000   209000\n",
      "   751000   768000   770000   800000   850000   880000   900000   920000\n",
      "   930000   950000  1000000  1200000  1300000  1400000  1320713  1350000\n",
      "  1441746  1497578  1555354  1613831  1637282  1669946  1810060  1771136\n",
      "  1721777  1644325  1534654  1401000       80      100      200      500\n",
      "     1000     3000     5000     8000    15000    21000    28000    50000\n",
      "    57000    64000    69000    79000    84000    88100    98000   117000\n",
      "  1381000   878000  1935000   458000   459000   603000   701000   507000\n",
      "   471000   530000   591000   546000   621000   896000   687000  1016000\n",
      "  1017000  1166000  1361000  1297000  1323000  1453000  1579000  2278000\n",
      "  2531000  2534000  2894000  2901000  2683000  2855000  3037000  3250000\n",
      "  3478000   127000   131000   133000   137000   155000   170000   172000\n",
      "   165000   138100   153100    82000    84651    82674    88000    85250\n",
      "  1274000   639000   808000   528000  1332000  1068000   658000   488000\n",
      "   766000  1027000  1196000  1826000  3550000  4612000  5268000  5008000\n",
      "  5768000  5810000  5840000  6290000  6902000  6931000  5667000  5254000\n",
      "  5127000  5476000  4107000  4596000  4890000  5203000  5567000  5957000\n",
      "   307000   132000   341000   269000   194000   120000   123000   257000\n",
      "   300000   456000   434000   357000   520000   533000   475000   425000\n",
      "   549095   565240   580506   555375   558028   561486   563667   566025\n",
      "   576000   575635   582162   576500   350000   400000   504000   583000\n",
      "   607000   631000   656000   689000   731000   729000   730000   730258\n",
      "   730759   730841   731002    63000    91000    49000   208000   142000\n",
      "   106000    94000    78000    74000   144000   143000   147000   275000\n",
      "   204000   219000   243000   287000   317000   330000   345000   348000\n",
      "   394000   422000   451000  2834000  2391000  3794000  4465000  3552000\n",
      "  2893000  2579000  2386000  2366000  2354000  2682000  2666000  2783000\n",
      "  3349000  3584000  4111000  3905000  3949000  4770000  5136000  4109000\n",
      "  4501000  4602000  4757000  5563000  5681000  5902000  5956000  5960000\n",
      "  6105000  5530000  5884000  6260000  6699000  7168000  5375000  5000000\n",
      "  5250000  5750000  4750000  5500000  5700000  5900000  6100000  6000000\n",
      "  6200000  6500000  6800000  7200000  7250000  7800000  7750000  8000000\n",
      "  8220000  8500000  8632000  8700000   295000   315000   410000   420000\n",
      "   430000   440000   450000   460000   500000   510000   791000   526000\n",
      "   638000   719000   751342   772748   810000   870000   504719   386152\n",
      "   401542   426572   461130   498539   543298   567000   580000   596000\n",
      "   593008   617178   632741   658657  1147090  1182520   380000   498000\n",
      "   517000   618000   629000   648000   662000   675000   748000   744626\n",
      "   747894   755000   753379   753629   755500   741000   763000   830000\n",
      "   857000   881000   886110   889190   889000   891496   892916   890000\n",
      "  1008000   994000   996000  1018000  1022000  1026000  1032000  1038000\n",
      "  1042000  1048000  1054000  1086000  1113000  1127000  1071000   887000\n",
      "  1413000  1215000  1339000  1417000  1623000  1665000  1632000  1687000\n",
      "  1744000  1803000  1902000  1969000  1999000  2127000  2263000  2421000\n",
      "  2591000    26000    27000    32000    34000    54000    66000    73000\n",
      "    80000   103000   107000   573000   599000   637000   678000   726000\n",
      "   776000    52000    53000    54870    28756    30215    31674    33133\n",
      "    34592    36051    37510    38969    40428    41887    43346    44805\n",
      "    46263    47865    49018   388000   447000   487000   525000   218000\n",
      "   408000   515000  1090000  1241000  1250000  1280000  1430000  1416322\n",
      "  1780000  2081000  3303000  2500000  3226000  3260000  3065000  2427000\n",
      "  2920000  3122000  3268000  3275000  3277000  3298000  2752000  2928000\n",
      "  3116000  3334000  3567000    61750    57199    66250    67750    52500\n",
      "    59250    57500    56000    60000    58000    55300    80500   130000\n",
      "   118665   112000   135716    33000    31000    72000  2298000  3125000\n",
      "  4732000  2926000  2950000  3286000  2409000  2797000  3690000  3364000\n",
      "  3740000  3694000  4608000  4911000  5425000  5455000  5182000  4831000\n",
      "  4185000  5367000  5909000  6051000  6197000  6997000  7084000  7297000\n",
      "  7516000  7520000  7711000  7081000  7534000  8016000  8578000  9178000\n",
      "    65000    70000    68000   154000   163000   178000   322000   361000\n",
      "   405000   429000   436000   464000   494000   565000   666000   735000\n",
      "   765000   815000   926000   821000   862000   897000   882000   888000\n",
      "   905000   589000   615000   682000   695000   705000   798000   854000\n",
      "   914000    83000    93000   184000   359000   305000  1168000  1478000\n",
      "  1493000  1560000  2451000  2468000  2473000  2631000  2800000  2996000\n",
      "  3205000  1357000  1106000   532000   346000   270000   280000   224000\n",
      "   207000   232000   373000   354000   649000   829000   940000  1066000\n",
      "  1128000  1182000  1195000  1831720  3823000  3835000  3886000  3910000\n",
      "  4160000  4426000  4736000  5068000    17500    13000    11530    11930\n",
      "    17595    13883    10245    12150    12340    10483     4112     2533\n",
      "     9500    10500     9000    10000     9890     9400     9200     9300\n",
      "    11767    14653    17541    22000    17000    16000   230000   190000\n",
      "   220000   240000   260000   310000   320000   325000   335000   355000\n",
      "   360000   365000   375000   513000   569000   569100   801000  1078784\n",
      "  1260794  1251003  1284062  1324427  1805085  2042861  1136000  1175000\n",
      "  1211000  1259000  1303000  1134000  1025000   976000   931000   972000\n",
      "   986000   909000  1120000  1254000  1293000  1354000  1480000  1761000\n",
      "  2025000  2243000  2494000  2843000  2608000  3506000  3657000  3815000\n",
      "  3868000  3945000  4000000  4256000  4528000  4845000  5185000    20000\n",
      "    18000    24000   113000    32600    35200    43600    51000    62000\n",
      "  9766000  6900000  6935000  7160000  8621000  6556000  6376000  5780000\n",
      "  5256000  5248000  5212000  5385000  4998000  4600000  4738000  5209000\n",
      "  4886000  9132000  9609000 13624000 16956000 19781000 21632000 23153000\n",
      " 22818000 23201000 23972000 24768000 25873000 26201000 26232000 27911000\n",
      " 29697000 31776000 34000000]\n"
     ]
    }
   ],
   "source": [
    "for i in agric_data.columns:\n",
    "    print(i)\n",
    "    print(len(agric_data[i].unique()))\n",
    "    print(agric_data[i].unique())"
   ]
  },
  {
   "cell_type": "code",
   "execution_count": 212,
   "metadata": {},
   "outputs": [
    {
     "data": {
      "text/plain": [
       "array(['Area', 'Crop', 'Year', 'Harvested Area', 'Yield', 'Production'],\n",
       "      dtype=object)"
      ]
     },
     "execution_count": 212,
     "metadata": {},
     "output_type": "execute_result"
    }
   ],
   "source": [
    "agric_data.columns.values"
   ]
  },
  {
   "cell_type": "code",
   "execution_count": 213,
   "metadata": {},
   "outputs": [
    {
     "data": {
      "text/plain": [
       "<matplotlib.axes._subplots.AxesSubplot at 0x21380a3eb48>"
      ]
     },
     "execution_count": 213,
     "metadata": {},
     "output_type": "execute_result"
    },
    {
     "data": {
      "image/png": "[encoded data removed]",
      "text/plain": [
       "<Figure size 432x288 with 1 Axes>"
      ]
     },
     "metadata": {
      "needs_background": "light"
     },
     "output_type": "display_data"
    }
   ],
   "source": [
    "sns.lineplot(agric_data['Year'],agric_data['Harvested Area'])"
   ]
  },
  {
   "cell_type": "code",
   "execution_count": 214,
   "metadata": {},
   "outputs": [
    {
     "data": {
      "text/plain": [
       "<matplotlib.axes._subplots.AxesSubplot at 0x21380ae2588>"
      ]
     },
     "execution_count": 214,
     "metadata": {},
     "output_type": "execute_result"
    },
    {
     "data": {
      "image/png": "[encoded data removed]",
      "text/plain": [
       "<Figure size 432x288 with 1 Axes>"
      ]
     },
     "metadata": {
      "needs_background": "light"
     },
     "output_type": "display_data"
    }
   ],
   "source": [
    "sns.lineplot(agric_data['Year'],agric_data['Yield'])"
   ]
  },
  {
   "cell_type": "code",
   "execution_count": 215,
   "metadata": {},
   "outputs": [
    {
     "data": {
      "text/plain": [
       "<matplotlib.axes._subplots.AxesSubplot at 0x21380e7d548>"
      ]
     },
     "execution_count": 215,
     "metadata": {},
     "output_type": "execute_result"
    },
    {
     "data": {
      "image/png": "[encoded data removed]",
      "text/plain": [
       "<Figure size 432x288 with 1 Axes>"
      ]
     },
     "metadata": {
      "needs_background": "light"
     },
     "output_type": "display_data"
    }
   ],
   "source": [
    "sns.regplot(x='Harvested Area',y= 'Production',data=agric_data)"
   ]
  },
  {
   "cell_type": "code",
   "execution_count": 216,
   "metadata": {},
   "outputs": [
    {
     "data": {
      "text/plain": [
       "<matplotlib.axes._subplots.AxesSubplot at 0x21380ecb8c8>"
      ]
     },
     "execution_count": 216,
     "metadata": {},
     "output_type": "execute_result"
    },
    {
     "data": {
      "image/png": "[encoded data removed]",
      "text/plain": [
       "<Figure size 432x288 with 1 Axes>"
      ]
     },
     "metadata": {
      "needs_background": "light"
     },
     "output_type": "display_data"
    }
   ],
   "source": [
    "sns.lineplot(agric_data['Year'],agric_data['Production'])"
   ]
  },
  {
   "cell_type": "code",
   "execution_count": 217,
   "metadata": {},
   "outputs": [
    {
     "data": {
      "text/plain": [
       "(array([ 0,  1,  2,  3,  4,  5,  6,  7,  8,  9, 10, 11, 12, 13, 14, 15, 16,\n",
       "        17, 18, 19, 20, 21, 22, 23, 24, 25, 26, 27, 28, 29, 30, 31, 32, 33,\n",
       "        34, 35, 36]), <a list of 37 Text xticklabel objects>)"
      ]
     },
     "execution_count": 217,
     "metadata": {},
     "output_type": "execute_result"
    },
    {
     "data": {
      "image/png": "[encoded data removed]",
      "text/plain": [
       "<Figure size 1800x720 with 1 Axes>"
      ]
     },
     "metadata": {
      "needs_background": "light"
     },
     "output_type": "display_data"
    }
   ],
   "source": [
    "plt.figure(figsize=(25,10))\n",
    "sns.barplot(agric_data[\"Crop\"],agric_data[\"Production\"])\n",
    "plt.xticks(rotation=60)"
   ]
  },
  {
   "cell_type": "code",
   "execution_count": null,
   "metadata": {},
   "outputs": [],
   "source": []
  },
  {
   "cell_type": "code",
   "execution_count": 218,
   "metadata": {},
   "outputs": [
    {
     "name": "stdout",
     "output_type": "stream",
     "text": [
      "Area\n",
      "1\n",
      "['Nigeria']\n",
      "Crop\n",
      "37\n",
      "['Carrots and turnips' 'Cashew nuts, with shell' 'Cassava'\n",
      " 'Chillies and peppers, dry' 'Chillies and peppers, green' 'Cocoa, beans'\n",
      " 'Coconuts' 'Fruit, fresh nes' 'Ginger' 'Groundnuts, with shell'\n",
      " 'Kola nuts' 'Maize' 'Maize, green' 'Mangoes, mangosteens, guavas'\n",
      " 'Melonseed' 'Millet' 'Oil palm fruit' 'Okra' 'Onions, dry' 'Papayas'\n",
      " 'Pineapples' 'Plantains and others' 'Potatoes' 'Pulses nes' 'Rice, paddy'\n",
      " 'Rubber, natural' 'Sesame seed' 'Sorghum' 'Soybeans' 'Sugar cane'\n",
      " 'Sweet potatoes' 'Taro (cocoyam)' 'Tobacco, unmanufactured' 'Tomatoes'\n",
      " 'Vegetables, fresh nes' 'Wheat' 'Yams']\n",
      "Year\n",
      "35\n",
      "[1971 1972 1973 1974 1975 1976 1977 1978 1979 1980 1981 1982 1983 1984\n",
      " 1985 1986 1987 1988 1989 1990 1991 1992 1993 1994 1995 1996 1997 1998\n",
      " 1999 2000 2001 2002 2003 2004 2005]\n",
      "Harvested Area\n",
      "754\n",
      "[  20000   21000   22000   22303   21228   18000   24000   24285   24551\n",
      "   25000   26000   27000   26492   26729   27500   27159   27339   27750\n",
      "   40000   50000   75000   90000  120000  135000  155000  175000  243000\n",
      "  243200  238000  259000  265000  273000  277000  292000  309000  900000\n",
      "  960000  970000 1000000 1050000 1080000 1100000 1150000 1200000 1250000\n",
      " 1259000 1075000 1095000 1288000 1347000 1639778 1634130 2551000 2755000\n",
      " 2844000 2927000 2944000 2946000 2697400 3042500 3406000 3300000 3340000\n",
      " 3446000 3490000 3531000 3782000   23000   23300   23600   23900   24200\n",
      "   24500   24800   25100   25400   25700   26300   26600   26900   27200\n",
      "   27800   28100   28400   28700   29000   29300   29600   29900   30200\n",
      "   30500   30443   30494   30537   30410   30413   30289   30338   30368\n",
      "   30750   61000   62000   60000   64000   65000   67000   68000   69000\n",
      "   70000   77000   78000   80000   82000   84000   85000   89048   67507\n",
      "   70037   72766   89000   88706   89223   91000   90129   90639   91500\n",
      "  700000  708000  715000  726000  730000  735000  751000  788000  739000\n",
      "  743000  744500  966000 1030000 1002000 1062000 1198902   34000   30000\n",
      "   35000   32000   38000   34500   35500   37000   39000   33245   28500\n",
      "   31500   35400   35600   36000  118000  121000  124000  132000  137000\n",
      "  140000  142000  145000  148000  185000  184500  196000  198000  210000\n",
      "  197349  208520  218000  223416  229641  238082  246800  255598  258826\n",
      "  263496  284711  278150  269975  257427  239874  218500     160     200\n",
      "     400    1000    2000    6000   10000   16000   42000   56000  100000\n",
      "  110000  129000  159000  163000  166000  153000  158000  160000  162000\n",
      "  167000  170000  181000 1795000 2033000 2076000 1815000 1418000  684000\n",
      "  763000  710000  504000  563000  650000  497000  600000  594000  793000\n",
      "  597000  707000  800000 1127000 1046000 1121000 1571000 1767000 2266000\n",
      " 2251500 2604700 1929000 1934000 1731000 1878000 1985000 2097000 2187000\n",
      "  130000  150000  125000  101200  114200  115000  105000   94000   91719\n",
      "   90150   94250 1218000 1115000 1246000  579000  971000  892000  610000\n",
      "  519000  425000  465000  438000  556000 1058000 1556000 2800000 3408000\n",
      " 3212000 3590000 5104000 5142000 5223000 5309000 5426000 5472000 4273400\n",
      " 4200000 3884000 3423000 3159000 3283000 3282000 3469000 3479000 3589000\n",
      "  122000  112000   58000   97000   52000   46000   44000  106000  156000\n",
      "  172000  113000  165445  167706  169810  163546  163178  163023  162619\n",
      "  162268  161000  162748  163763  161500   81000   88000   93000   98000\n",
      "  102000  123065  125430  125403  125366  125193  125500  405000  331000\n",
      "  450000  236000  184000  164000  103000   76000   92000   54000  183000\n",
      "  308000  204000  230000  231000  253000  285000  315000  250000  305000\n",
      "  575000  580000  587000  625000  659000  694000 4789000 3690000 5651000\n",
      " 4787000 4629000 3930000 3089000 2273000 2565000 2824000 1708000 1698000\n",
      " 1773000 2133000 2346000 3917000 3829000 3563000 4067000 4778000 4560000\n",
      " 4367000 4850000 5007000 5107000 5356000 5487000 5596000 5603000 5814000\n",
      " 4254000 4490000 4536000 4620000 4685000 2150000 2000000 2100000 2300000\n",
      " 1900000 2200000 2220000 2250000 2260000 2450000 2550000 2700000 2750000\n",
      " 2938000 2950000 3000000 3080000 3180000 3320000 3350000  165000  180000\n",
      "  200000  264000  260000  231278  236317  241599  250970  259393  265206\n",
      "  245000  255000  275000  292135  298959  300000  330000  350000   36667\n",
      "   63403   67101   72572   79895   87996   97729  103980  108478  113730\n",
      "  115501  122748  128560  136778  245786  264174   45000   55000   66000\n",
      "   81263   89627   89315   89973   91054   91148   95000   99000  105505\n",
      "  105570  105641  105720  105802  105477  116747  117005  116977  116000\n",
      "  116766  116938  116500  185500  187200  143000  189000  178000  188000\n",
      "  246000  256000  268000  385000  386000  408000  426000  435000  440000\n",
      "  447000    2500    2800    3200    3400    3800    4200    4500    4800\n",
      "    5200    5500    5600    5900    7000    7600    7500    7300    8300\n",
      "    7700    9400   10400   11400   12900   13600  205000  212000  224000\n",
      "  235000  108000  109000  131832   74309   77595   80842   84048   87216\n",
      "   90345   93436   96491   99510  102492  105440  108354  111233  115144\n",
      "  119432  304000  237000  373000  269000  261000  400000  550000  630000\n",
      "  670000  745000 1041000 1652000 1208000 1664000 1564000 1714000 1796000\n",
      " 1784200 2048000 2044000 2191000 2199000 2117000 2185000 2210000 2348000\n",
      " 2494000   73000  225000  287000  297000  281000  296000  297500  333000\n",
      "  339000  339500  114000  117000  128000  103300  116700  104700   85500\n",
      "  122100  129400  126700  133000  139000  143700  151000 5387000 3791000\n",
      " 5198000 4651000 2734000 4845000 3480000 3433000 2686000 3286000 2076500\n",
      " 2290000 2280000 4410000 4862000 5147000 5131000 4776000 4953700 4185000\n",
      " 5538000 5474000 5605000 5738000 6095000 6191000 6589000 6635000 6678000\n",
      " 6885000 6437000 6849000 6935000 7031000 7284000  220000  240000  270000\n",
      "  324000  442000  750000  729000  468000  513000  543000  593000  617000\n",
      "  502000  512500  517000  540000  555000  601000   17000   17500   16500\n",
      "   19000   22500   20500   21400   22400   22100   22200   23800   18750\n",
      "   19270   21053   21900   43000   12000   11000   13000   14000   15000\n",
      "   28000   31000   51000  299000  301000  282200  817000  823000  824000\n",
      "  877000  895000  954000  989000  325000   83000  127000  141000  213000\n",
      "  226000  229000  258240  568770  572000  602000  616000  633000  640000\n",
      "  667000   38040   25500   31984   27702   19250   23880   20530   20680\n",
      "   16266   16060   13550   19500   21220   18522   18934   18158   17995\n",
      "   17463   21757   26693   31529   32500   33000   33500   36500   37500\n",
      "   63038  126000  215000  195000  380000  430000  480000  635000  620754\n",
      "  616301  660000  687012  725000   11500   10500   72000   49000   50200\n",
      " 1236000  932000  948000  671000  776000  679000  577000  471000  481000\n",
      "  498000  926000  956000  888000  816000  840000  924000  935000  921000\n",
      " 1276000 1639000 1743000 1906000 2031000 2118000 2172000 2169890 2625000\n",
      " 2613000 2647000 2677000 2794000 2828000 2837000 2957000]\n",
      "Yield\n",
      "1014\n",
      "[ 75000  79048  78636 ... 105011 112006 114981]\n",
      "Production\n",
      "851\n",
      "[  150000   166000   173000   175000   166662   139000   193000   198000\n",
      "   203000   210000   225000   231000   225440   227745   235000   232121\n",
      "   234008   237500    25000    30000    45000    55000    75000    85000\n",
      "    95000   110000   125000   152000   417000   466000   485000   514000\n",
      "   524000   555000   594000  9172000  9570000  9600000  9500000 10500000\n",
      " 11000000 12000000 11500000 11700000  9950000 11800000 12090000 12388000\n",
      " 13876000 15439000 17404000 19043008 26004000 29184000 30128000 31005000\n",
      " 31404000 31418000 32050000 32695000 32697000 32010000 32068000 34120000\n",
      " 36304000 38845000 41565000    35000    35500    36000    36500    37000\n",
      "    37500    38000    38500    39000    39500    40000    40500    41000\n",
      "    41500    42000    42500    43000    43500    44000    44500    45500\n",
      "    46000    46500    47000    47500    47467    47584    47686    47512\n",
      "    47555    47231    47413    47621    48000   495000   490000   480000\n",
      "   540000   550000   570000   590000   600000   620000   630000   635000\n",
      "   650000   670000   690000   700000   720000   750000   780000   819000\n",
      "   575000   593000   612000   633000   745000   709000   715000   715657\n",
      "   716937   717168   718409   721000   256600   241100   215000   214000\n",
      "   216000   181000   157000   151000   153000   174000   156000   140000\n",
      "   160800   160000   148000   253000   256000   244000   268000   292000\n",
      "   306000   323000   318000   370000   338000   340000   362000   385000\n",
      "   412000   441000    97000    86000    99000    90000    92000   100000\n",
      "   101000   102000   104000   105000   108000   118000   129000   135000\n",
      "   145000   149000   158000   161000   171000   182000   195000   209000\n",
      "   751000   768000   770000   800000   850000   880000   900000   920000\n",
      "   930000   950000  1000000  1200000  1300000  1400000  1320713  1350000\n",
      "  1441746  1497578  1555354  1613831  1637282  1669946  1810060  1771136\n",
      "  1721777  1644325  1534654  1401000       80      100      200      500\n",
      "     1000     3000     5000     8000    15000    21000    28000    50000\n",
      "    57000    64000    69000    79000    84000    88100    98000   117000\n",
      "  1381000   878000  1935000   458000   459000   603000   701000   507000\n",
      "   471000   530000   591000   546000   621000   896000   687000  1016000\n",
      "  1017000  1166000  1361000  1297000  1323000  1453000  1579000  2278000\n",
      "  2531000  2534000  2894000  2901000  2683000  2855000  3037000  3250000\n",
      "  3478000   127000   131000   133000   137000   155000   170000   172000\n",
      "   165000   138100   153100    82000    84651    82674    88000    85250\n",
      "  1274000   639000   808000   528000  1332000  1068000   658000   488000\n",
      "   766000  1027000  1196000  1826000  3550000  4612000  5268000  5008000\n",
      "  5768000  5810000  5840000  6290000  6902000  6931000  5667000  5254000\n",
      "  5127000  5476000  4107000  4596000  4890000  5203000  5567000  5957000\n",
      "   307000   132000   341000   269000   194000   120000   123000   257000\n",
      "   300000   456000   434000   357000   520000   533000   475000   425000\n",
      "   549095   565240   580506   555375   558028   561486   563667   566025\n",
      "   576000   575635   582162   576500   350000   400000   504000   583000\n",
      "   607000   631000   656000   689000   731000   729000   730000   730258\n",
      "   730759   730841   731002    63000    91000    49000   208000   142000\n",
      "   106000    94000    78000    74000   144000   143000   147000   275000\n",
      "   204000   219000   243000   287000   317000   330000   345000   348000\n",
      "   394000   422000   451000  2834000  2391000  3794000  4465000  3552000\n",
      "  2893000  2579000  2386000  2366000  2354000  2682000  2666000  2783000\n",
      "  3349000  3584000  4111000  3905000  3949000  4770000  5136000  4109000\n",
      "  4501000  4602000  4757000  5563000  5681000  5902000  5956000  5960000\n",
      "  6105000  5530000  5884000  6260000  6699000  7168000  5375000  5000000\n",
      "  5250000  5750000  4750000  5500000  5700000  5900000  6100000  6000000\n",
      "  6200000  6500000  6800000  7200000  7250000  7800000  7750000  8000000\n",
      "  8220000  8500000  8632000  8700000   295000   315000   410000   420000\n",
      "   430000   440000   450000   460000   500000   510000   791000   526000\n",
      "   638000   719000   751342   772748   810000   870000   504719   386152\n",
      "   401542   426572   461130   498539   543298   567000   580000   596000\n",
      "   593008   617178   632741   658657  1147090  1182520   380000   498000\n",
      "   517000   618000   629000   648000   662000   675000   748000   744626\n",
      "   747894   755000   753379   753629   755500   741000   763000   830000\n",
      "   857000   881000   886110   889190   889000   891496   892916   890000\n",
      "  1008000   994000   996000  1018000  1022000  1026000  1032000  1038000\n",
      "  1042000  1048000  1054000  1086000  1113000  1127000  1071000   887000\n",
      "  1413000  1215000  1339000  1417000  1623000  1665000  1632000  1687000\n",
      "  1744000  1803000  1902000  1969000  1999000  2127000  2263000  2421000\n",
      "  2591000    26000    27000    32000    34000    54000    66000    73000\n",
      "    80000   103000   107000   573000   599000   637000   678000   726000\n",
      "   776000    52000    53000    54870    28756    30215    31674    33133\n",
      "    34592    36051    37510    38969    40428    41887    43346    44805\n",
      "    46263    47865    49018   388000   447000   487000   525000   218000\n",
      "   408000   515000  1090000  1241000  1250000  1280000  1430000  1416322\n",
      "  1780000  2081000  3303000  2500000  3226000  3260000  3065000  2427000\n",
      "  2920000  3122000  3268000  3275000  3277000  3298000  2752000  2928000\n",
      "  3116000  3334000  3567000    61750    57199    66250    67750    52500\n",
      "    59250    57500    56000    60000    58000    55300    80500   130000\n",
      "   118665   112000   135716    33000    31000    72000  2298000  3125000\n",
      "  4732000  2926000  2950000  3286000  2409000  2797000  3690000  3364000\n",
      "  3740000  3694000  4608000  4911000  5425000  5455000  5182000  4831000\n",
      "  4185000  5367000  5909000  6051000  6197000  6997000  7084000  7297000\n",
      "  7516000  7520000  7711000  7081000  7534000  8016000  8578000  9178000\n",
      "    65000    70000    68000   154000   163000   178000   322000   361000\n",
      "   405000   429000   436000   464000   494000   565000   666000   735000\n",
      "   765000   815000   926000   821000   862000   897000   882000   888000\n",
      "   905000   589000   615000   682000   695000   705000   798000   854000\n",
      "   914000    83000    93000   184000   359000   305000  1168000  1478000\n",
      "  1493000  1560000  2451000  2468000  2473000  2631000  2800000  2996000\n",
      "  3205000  1357000  1106000   532000   346000   270000   280000   224000\n",
      "   207000   232000   373000   354000   649000   829000   940000  1066000\n",
      "  1128000  1182000  1195000  1831720  3823000  3835000  3886000  3910000\n",
      "  4160000  4426000  4736000  5068000    17500    13000    11530    11930\n",
      "    17595    13883    10245    12150    12340    10483     4112     2533\n",
      "     9500    10500     9000    10000     9890     9400     9200     9300\n",
      "    11767    14653    17541    22000    17000    16000   230000   190000\n",
      "   220000   240000   260000   310000   320000   325000   335000   355000\n",
      "   360000   365000   375000   513000   569000   569100   801000  1078784\n",
      "  1260794  1251003  1284062  1324427  1805085  2042861  1136000  1175000\n",
      "  1211000  1259000  1303000  1134000  1025000   976000   931000   972000\n",
      "   986000   909000  1120000  1254000  1293000  1354000  1480000  1761000\n",
      "  2025000  2243000  2494000  2843000  2608000  3506000  3657000  3815000\n",
      "  3868000  3945000  4000000  4256000  4528000  4845000  5185000    20000\n",
      "    18000    24000   113000    32600    35200    43600    51000    62000\n",
      "  9766000  6900000  6935000  7160000  8621000  6556000  6376000  5780000\n",
      "  5256000  5248000  5212000  5385000  4998000  4600000  4738000  5209000\n",
      "  4886000  9132000  9609000 13624000 16956000 19781000 21632000 23153000\n",
      " 22818000 23201000 23972000 24768000 25873000 26201000 26232000 27911000\n",
      " 29697000 31776000 34000000]\n"
     ]
    }
   ],
   "source": [
    "for i in agric_data.columns:\n",
    "    print(i)\n",
    "    print(len(agric_data[i].unique()))\n",
    "    print(agric_data[i].unique())"
   ]
  },
  {
   "cell_type": "code",
   "execution_count": 219,
   "metadata": {},
   "outputs": [
    {
     "data": {
      "text/html": [
       "<div>\n",
       "<style scoped>\n",
       "    .dataframe tbody tr th:only-of-type {\n",
       "        vertical-align: middle;\n",
       "    }\n",
       "\n",
       "    .dataframe tbody tr th {\n",
       "        vertical-align: top;\n",
       "    }\n",
       "\n",
       "    .dataframe thead th {\n",
       "        text-align: right;\n",
       "    }\n",
       "</style>\n",
       "<table border=\"1\" class=\"dataframe\">\n",
       "  <thead>\n",
       "    <tr style=\"text-align: right;\">\n",
       "      <th></th>\n",
       "      <th>Crop</th>\n",
       "      <th>Production</th>\n",
       "    </tr>\n",
       "  </thead>\n",
       "  <tbody>\n",
       "    <tr>\n",
       "      <td>2</td>\n",
       "      <td>Cassava</td>\n",
       "      <td>732029008</td>\n",
       "    </tr>\n",
       "    <tr>\n",
       "      <td>36</td>\n",
       "      <td>Yams</td>\n",
       "      <td>513962000</td>\n",
       "    </tr>\n",
       "    <tr>\n",
       "      <td>16</td>\n",
       "      <td>Oil palm fruit</td>\n",
       "      <td>227277000</td>\n",
       "    </tr>\n",
       "    <tr>\n",
       "      <td>27</td>\n",
       "      <td>Sorghum</td>\n",
       "      <td>185438000</td>\n",
       "    </tr>\n",
       "    <tr>\n",
       "      <td>15</td>\n",
       "      <td>Millet</td>\n",
       "      <td>151226000</td>\n",
       "    </tr>\n",
       "    <tr>\n",
       "      <td>11</td>\n",
       "      <td>Maize</td>\n",
       "      <td>121415000</td>\n",
       "    </tr>\n",
       "    <tr>\n",
       "      <td>34</td>\n",
       "      <td>Vegetables, fresh nes</td>\n",
       "      <td>77386000</td>\n",
       "    </tr>\n",
       "    <tr>\n",
       "      <td>24</td>\n",
       "      <td>Rice, paddy</td>\n",
       "      <td>69748322</td>\n",
       "    </tr>\n",
       "    <tr>\n",
       "      <td>9</td>\n",
       "      <td>Groundnuts, with shell</td>\n",
       "      <td>51725000</td>\n",
       "    </tr>\n",
       "    <tr>\n",
       "      <td>31</td>\n",
       "      <td>Taro (cocoyam)</td>\n",
       "      <td>51697720</td>\n",
       "    </tr>\n",
       "    <tr>\n",
       "      <td>21</td>\n",
       "      <td>Plantains and others</td>\n",
       "      <td>49456000</td>\n",
       "    </tr>\n",
       "    <tr>\n",
       "      <td>7</td>\n",
       "      <td>Fruit, fresh nes</td>\n",
       "      <td>43968402</td>\n",
       "    </tr>\n",
       "    <tr>\n",
       "      <td>30</td>\n",
       "      <td>Sweet potatoes</td>\n",
       "      <td>27828000</td>\n",
       "    </tr>\n",
       "    <tr>\n",
       "      <td>29</td>\n",
       "      <td>Sugar cane</td>\n",
       "      <td>27327000</td>\n",
       "    </tr>\n",
       "    <tr>\n",
       "      <td>20</td>\n",
       "      <td>Pineapples</td>\n",
       "      <td>25610712</td>\n",
       "    </tr>\n",
       "    <tr>\n",
       "      <td>4</td>\n",
       "      <td>Chillies and peppers, green</td>\n",
       "      <td>22870171</td>\n",
       "    </tr>\n",
       "    <tr>\n",
       "      <td>33</td>\n",
       "      <td>Tomatoes</td>\n",
       "      <td>20534116</td>\n",
       "    </tr>\n",
       "    <tr>\n",
       "      <td>17</td>\n",
       "      <td>Okra</td>\n",
       "      <td>19050090</td>\n",
       "    </tr>\n",
       "    <tr>\n",
       "      <td>19</td>\n",
       "      <td>Papayas</td>\n",
       "      <td>18236028</td>\n",
       "    </tr>\n",
       "    <tr>\n",
       "      <td>18</td>\n",
       "      <td>Onions, dry</td>\n",
       "      <td>17796146</td>\n",
       "    </tr>\n",
       "    <tr>\n",
       "      <td>13</td>\n",
       "      <td>Mangoes, mangosteens, guavas</td>\n",
       "      <td>17618860</td>\n",
       "    </tr>\n",
       "    <tr>\n",
       "      <td>12</td>\n",
       "      <td>Maize, green</td>\n",
       "      <td>14040719</td>\n",
       "    </tr>\n",
       "    <tr>\n",
       "      <td>5</td>\n",
       "      <td>Cocoa, beans</td>\n",
       "      <td>8725500</td>\n",
       "    </tr>\n",
       "    <tr>\n",
       "      <td>14</td>\n",
       "      <td>Melonseed</td>\n",
       "      <td>7654000</td>\n",
       "    </tr>\n",
       "    <tr>\n",
       "      <td>28</td>\n",
       "      <td>Soybeans</td>\n",
       "      <td>7169000</td>\n",
       "    </tr>\n",
       "    <tr>\n",
       "      <td>0</td>\n",
       "      <td>Carrots and turnips</td>\n",
       "      <td>6171476</td>\n",
       "    </tr>\n",
       "    <tr>\n",
       "      <td>22</td>\n",
       "      <td>Potatoes</td>\n",
       "      <td>6050000</td>\n",
       "    </tr>\n",
       "    <tr>\n",
       "      <td>1</td>\n",
       "      <td>Cashew nuts, with shell</td>\n",
       "      <td>4802000</td>\n",
       "    </tr>\n",
       "    <tr>\n",
       "      <td>6</td>\n",
       "      <td>Coconuts</td>\n",
       "      <td>4381000</td>\n",
       "    </tr>\n",
       "    <tr>\n",
       "      <td>10</td>\n",
       "      <td>Kola nuts</td>\n",
       "      <td>4319775</td>\n",
       "    </tr>\n",
       "    <tr>\n",
       "      <td>25</td>\n",
       "      <td>Rubber, natural</td>\n",
       "      <td>3215380</td>\n",
       "    </tr>\n",
       "    <tr>\n",
       "      <td>26</td>\n",
       "      <td>Sesame seed</td>\n",
       "      <td>1741000</td>\n",
       "    </tr>\n",
       "    <tr>\n",
       "      <td>35</td>\n",
       "      <td>Wheat</td>\n",
       "      <td>1731400</td>\n",
       "    </tr>\n",
       "    <tr>\n",
       "      <td>23</td>\n",
       "      <td>Pulses nes</td>\n",
       "      <td>1606382</td>\n",
       "    </tr>\n",
       "    <tr>\n",
       "      <td>3</td>\n",
       "      <td>Chillies and peppers, dry</td>\n",
       "      <td>1500569</td>\n",
       "    </tr>\n",
       "    <tr>\n",
       "      <td>8</td>\n",
       "      <td>Ginger</td>\n",
       "      <td>1486540</td>\n",
       "    </tr>\n",
       "    <tr>\n",
       "      <td>32</td>\n",
       "      <td>Tobacco, unmanufactured</td>\n",
       "      <td>429252</td>\n",
       "    </tr>\n",
       "  </tbody>\n",
       "</table>\n",
       "</div>"
      ],
      "text/plain": [
       "                            Crop  Production\n",
       "2                        Cassava   732029008\n",
       "36                          Yams   513962000\n",
       "16                Oil palm fruit   227277000\n",
       "27                       Sorghum   185438000\n",
       "15                        Millet   151226000\n",
       "11                         Maize   121415000\n",
       "34         Vegetables, fresh nes    77386000\n",
       "24                   Rice, paddy    69748322\n",
       "9         Groundnuts, with shell    51725000\n",
       "31                Taro (cocoyam)    51697720\n",
       "21          Plantains and others    49456000\n",
       "7               Fruit, fresh nes    43968402\n",
       "30                Sweet potatoes    27828000\n",
       "29                    Sugar cane    27327000\n",
       "20                    Pineapples    25610712\n",
       "4    Chillies and peppers, green    22870171\n",
       "33                      Tomatoes    20534116\n",
       "17                          Okra    19050090\n",
       "19                       Papayas    18236028\n",
       "18                   Onions, dry    17796146\n",
       "13  Mangoes, mangosteens, guavas    17618860\n",
       "12                  Maize, green    14040719\n",
       "5                   Cocoa, beans     8725500\n",
       "14                     Melonseed     7654000\n",
       "28                      Soybeans     7169000\n",
       "0            Carrots and turnips     6171476\n",
       "22                      Potatoes     6050000\n",
       "1        Cashew nuts, with shell     4802000\n",
       "6                       Coconuts     4381000\n",
       "10                     Kola nuts     4319775\n",
       "25               Rubber, natural     3215380\n",
       "26                   Sesame seed     1741000\n",
       "35                         Wheat     1731400\n",
       "23                    Pulses nes     1606382\n",
       "3      Chillies and peppers, dry     1500569\n",
       "8                         Ginger     1486540\n",
       "32       Tobacco, unmanufactured      429252"
      ]
     },
     "execution_count": 219,
     "metadata": {},
     "output_type": "execute_result"
    }
   ],
   "source": [
    "top_crop_pro = agric_data.groupby(\"Crop\")[\"Production\"].sum().reset_index().sort_values(by='Production',ascending=False)\n",
    "top_crop_pro"
   ]
  },
  {
   "cell_type": "code",
   "execution_count": 220,
   "metadata": {},
   "outputs": [
    {
     "data": {
      "text/html": [
       "<div>\n",
       "<style scoped>\n",
       "    .dataframe tbody tr th:only-of-type {\n",
       "        vertical-align: middle;\n",
       "    }\n",
       "\n",
       "    .dataframe tbody tr th {\n",
       "        vertical-align: top;\n",
       "    }\n",
       "\n",
       "    .dataframe thead th {\n",
       "        text-align: right;\n",
       "    }\n",
       "</style>\n",
       "<table border=\"1\" class=\"dataframe\">\n",
       "  <thead>\n",
       "    <tr style=\"text-align: right;\">\n",
       "      <th></th>\n",
       "      <th>Production</th>\n",
       "    </tr>\n",
       "    <tr>\n",
       "      <th>Crop</th>\n",
       "      <th></th>\n",
       "    </tr>\n",
       "  </thead>\n",
       "  <tbody>\n",
       "    <tr>\n",
       "      <td>Carrots and turnips</td>\n",
       "      <td>6171476</td>\n",
       "    </tr>\n",
       "    <tr>\n",
       "      <td>Cashew nuts, with shell</td>\n",
       "      <td>4802000</td>\n",
       "    </tr>\n",
       "    <tr>\n",
       "      <td>Cassava</td>\n",
       "      <td>732029008</td>\n",
       "    </tr>\n",
       "    <tr>\n",
       "      <td>Chillies and peppers, dry</td>\n",
       "      <td>1500569</td>\n",
       "    </tr>\n",
       "    <tr>\n",
       "      <td>Chillies and peppers, green</td>\n",
       "      <td>22870171</td>\n",
       "    </tr>\n",
       "    <tr>\n",
       "      <td>Cocoa, beans</td>\n",
       "      <td>8725500</td>\n",
       "    </tr>\n",
       "    <tr>\n",
       "      <td>Coconuts</td>\n",
       "      <td>4381000</td>\n",
       "    </tr>\n",
       "    <tr>\n",
       "      <td>Fruit, fresh nes</td>\n",
       "      <td>43968402</td>\n",
       "    </tr>\n",
       "    <tr>\n",
       "      <td>Ginger</td>\n",
       "      <td>1486540</td>\n",
       "    </tr>\n",
       "    <tr>\n",
       "      <td>Groundnuts, with shell</td>\n",
       "      <td>51725000</td>\n",
       "    </tr>\n",
       "    <tr>\n",
       "      <td>Kola nuts</td>\n",
       "      <td>4319775</td>\n",
       "    </tr>\n",
       "    <tr>\n",
       "      <td>Maize</td>\n",
       "      <td>121415000</td>\n",
       "    </tr>\n",
       "    <tr>\n",
       "      <td>Maize, green</td>\n",
       "      <td>14040719</td>\n",
       "    </tr>\n",
       "    <tr>\n",
       "      <td>Mangoes, mangosteens, guavas</td>\n",
       "      <td>17618860</td>\n",
       "    </tr>\n",
       "    <tr>\n",
       "      <td>Melonseed</td>\n",
       "      <td>7654000</td>\n",
       "    </tr>\n",
       "    <tr>\n",
       "      <td>Millet</td>\n",
       "      <td>151226000</td>\n",
       "    </tr>\n",
       "    <tr>\n",
       "      <td>Oil palm fruit</td>\n",
       "      <td>227277000</td>\n",
       "    </tr>\n",
       "    <tr>\n",
       "      <td>Okra</td>\n",
       "      <td>19050090</td>\n",
       "    </tr>\n",
       "    <tr>\n",
       "      <td>Onions, dry</td>\n",
       "      <td>17796146</td>\n",
       "    </tr>\n",
       "    <tr>\n",
       "      <td>Papayas</td>\n",
       "      <td>18236028</td>\n",
       "    </tr>\n",
       "    <tr>\n",
       "      <td>Pineapples</td>\n",
       "      <td>25610712</td>\n",
       "    </tr>\n",
       "    <tr>\n",
       "      <td>Plantains and others</td>\n",
       "      <td>49456000</td>\n",
       "    </tr>\n",
       "    <tr>\n",
       "      <td>Potatoes</td>\n",
       "      <td>6050000</td>\n",
       "    </tr>\n",
       "    <tr>\n",
       "      <td>Pulses nes</td>\n",
       "      <td>1606382</td>\n",
       "    </tr>\n",
       "    <tr>\n",
       "      <td>Rice, paddy</td>\n",
       "      <td>69748322</td>\n",
       "    </tr>\n",
       "    <tr>\n",
       "      <td>Rubber, natural</td>\n",
       "      <td>3215380</td>\n",
       "    </tr>\n",
       "    <tr>\n",
       "      <td>Sesame seed</td>\n",
       "      <td>1741000</td>\n",
       "    </tr>\n",
       "    <tr>\n",
       "      <td>Sorghum</td>\n",
       "      <td>185438000</td>\n",
       "    </tr>\n",
       "    <tr>\n",
       "      <td>Soybeans</td>\n",
       "      <td>7169000</td>\n",
       "    </tr>\n",
       "    <tr>\n",
       "      <td>Sugar cane</td>\n",
       "      <td>27327000</td>\n",
       "    </tr>\n",
       "    <tr>\n",
       "      <td>Sweet potatoes</td>\n",
       "      <td>27828000</td>\n",
       "    </tr>\n",
       "    <tr>\n",
       "      <td>Taro (cocoyam)</td>\n",
       "      <td>51697720</td>\n",
       "    </tr>\n",
       "    <tr>\n",
       "      <td>Tobacco, unmanufactured</td>\n",
       "      <td>429252</td>\n",
       "    </tr>\n",
       "    <tr>\n",
       "      <td>Tomatoes</td>\n",
       "      <td>20534116</td>\n",
       "    </tr>\n",
       "    <tr>\n",
       "      <td>Vegetables, fresh nes</td>\n",
       "      <td>77386000</td>\n",
       "    </tr>\n",
       "    <tr>\n",
       "      <td>Wheat</td>\n",
       "      <td>1731400</td>\n",
       "    </tr>\n",
       "    <tr>\n",
       "      <td>Yams</td>\n",
       "      <td>513962000</td>\n",
       "    </tr>\n",
       "  </tbody>\n",
       "</table>\n",
       "</div>"
      ],
      "text/plain": [
       "                              Production\n",
       "Crop                                    \n",
       "Carrots and turnips              6171476\n",
       "Cashew nuts, with shell          4802000\n",
       "Cassava                        732029008\n",
       "Chillies and peppers, dry        1500569\n",
       "Chillies and peppers, green     22870171\n",
       "Cocoa, beans                     8725500\n",
       "Coconuts                         4381000\n",
       "Fruit, fresh nes                43968402\n",
       "Ginger                           1486540\n",
       "Groundnuts, with shell          51725000\n",
       "Kola nuts                        4319775\n",
       "Maize                          121415000\n",
       "Maize, green                    14040719\n",
       "Mangoes, mangosteens, guavas    17618860\n",
       "Melonseed                        7654000\n",
       "Millet                         151226000\n",
       "Oil palm fruit                 227277000\n",
       "Okra                            19050090\n",
       "Onions, dry                     17796146\n",
       "Papayas                         18236028\n",
       "Pineapples                      25610712\n",
       "Plantains and others            49456000\n",
       "Potatoes                         6050000\n",
       "Pulses nes                       1606382\n",
       "Rice, paddy                     69748322\n",
       "Rubber, natural                  3215380\n",
       "Sesame seed                      1741000\n",
       "Sorghum                        185438000\n",
       "Soybeans                         7169000\n",
       "Sugar cane                      27327000\n",
       "Sweet potatoes                  27828000\n",
       "Taro (cocoyam)                  51697720\n",
       "Tobacco, unmanufactured           429252\n",
       "Tomatoes                        20534116\n",
       "Vegetables, fresh nes           77386000\n",
       "Wheat                            1731400\n",
       "Yams                           513962000"
      ]
     },
     "execution_count": 220,
     "metadata": {},
     "output_type": "execute_result"
    }
   ],
   "source": [
    "agric_data.groupby(\"Crop\",axis=0).agg({\"Production\":np.sum})"
   ]
  },
  {
   "cell_type": "code",
   "execution_count": 221,
   "metadata": {},
   "outputs": [
    {
     "name": "stdout",
     "output_type": "stream",
     "text": [
      "(35, 6)\n"
     ]
    },
    {
     "data": {
      "text/html": [
       "<div>\n",
       "<style scoped>\n",
       "    .dataframe tbody tr th:only-of-type {\n",
       "        vertical-align: middle;\n",
       "    }\n",
       "\n",
       "    .dataframe tbody tr th {\n",
       "        vertical-align: top;\n",
       "    }\n",
       "\n",
       "    .dataframe thead th {\n",
       "        text-align: right;\n",
       "    }\n",
       "</style>\n",
       "<table border=\"1\" class=\"dataframe\">\n",
       "  <thead>\n",
       "    <tr style=\"text-align: right;\">\n",
       "      <th></th>\n",
       "      <th>Area</th>\n",
       "      <th>Crop</th>\n",
       "      <th>Year</th>\n",
       "      <th>Harvested Area</th>\n",
       "      <th>Yield</th>\n",
       "      <th>Production</th>\n",
       "    </tr>\n",
       "  </thead>\n",
       "  <tbody>\n",
       "    <tr>\n",
       "      <td>70</td>\n",
       "      <td>Nigeria</td>\n",
       "      <td>Cassava</td>\n",
       "      <td>1971</td>\n",
       "      <td>900000</td>\n",
       "      <td>101911</td>\n",
       "      <td>9172000</td>\n",
       "    </tr>\n",
       "    <tr>\n",
       "      <td>71</td>\n",
       "      <td>Nigeria</td>\n",
       "      <td>Cassava</td>\n",
       "      <td>1972</td>\n",
       "      <td>960000</td>\n",
       "      <td>99688</td>\n",
       "      <td>9570000</td>\n",
       "    </tr>\n",
       "    <tr>\n",
       "      <td>72</td>\n",
       "      <td>Nigeria</td>\n",
       "      <td>Cassava</td>\n",
       "      <td>1973</td>\n",
       "      <td>970000</td>\n",
       "      <td>98969</td>\n",
       "      <td>9600000</td>\n",
       "    </tr>\n",
       "  </tbody>\n",
       "</table>\n",
       "</div>"
      ],
      "text/plain": [
       "       Area     Crop  Year  Harvested Area   Yield  Production\n",
       "70  Nigeria  Cassava  1971          900000  101911     9172000\n",
       "71  Nigeria  Cassava  1972          960000   99688     9570000\n",
       "72  Nigeria  Cassava  1973          970000   98969     9600000"
      ]
     },
     "execution_count": 221,
     "metadata": {},
     "output_type": "execute_result"
    }
   ],
   "source": [
    "cassava_df = agric_data[agric_data[\"Crop\"]==\"Cassava\"]\n",
    "print(cassava_df.shape)\n",
    "cassava_df[:3]"
   ]
  },
  {
   "cell_type": "code",
   "execution_count": 222,
   "metadata": {},
   "outputs": [
    {
     "data": {
      "text/plain": [
       "<matplotlib.axes._subplots.AxesSubplot at 0x213815b2e08>"
      ]
     },
     "execution_count": 222,
     "metadata": {},
     "output_type": "execute_result"
    },
    {
     "data": {
      "image/png": "[encoded data removed]",
      "text/plain": [
       "<Figure size 1800x720 with 1 Axes>"
      ]
     },
     "metadata": {
      "needs_background": "light"
     },
     "output_type": "display_data"
    }
   ],
   "source": [
    "plt.figure(figsize=(25,10))\n",
    "sns.barplot(\"Year\",\"Production\",data=cassava_df)"
   ]
  },
  {
   "cell_type": "code",
   "execution_count": 223,
   "metadata": {},
   "outputs": [
    {
     "data": {
      "text/plain": [
       "<matplotlib.axes._subplots.AxesSubplot at 0x21381115808>"
      ]
     },
     "execution_count": 223,
     "metadata": {},
     "output_type": "execute_result"
    },
    {
     "data": {
      "image/png": "[encoded data removed]",
      "text/plain": [
       "<Figure size 1800x720 with 1 Axes>"
      ]
     },
     "metadata": {
      "needs_background": "light"
     },
     "output_type": "display_data"
    }
   ],
   "source": [
    "plt.figure(figsize=(25,10))\n",
    "sns.barplot(\"Year\",\"Yield\",data=cassava_df)"
   ]
  },
  {
   "cell_type": "code",
   "execution_count": 224,
   "metadata": {},
   "outputs": [
    {
     "data": {
      "text/plain": [
       "<matplotlib.axes._subplots.AxesSubplot at 0x21381707788>"
      ]
     },
     "execution_count": 224,
     "metadata": {},
     "output_type": "execute_result"
    },
    {
     "data": {
      "image/png": "[encoded data removed]",
      "text/plain": [
       "<Figure size 432x288 with 1 Axes>"
      ]
     },
     "metadata": {
      "needs_background": "light"
     },
     "output_type": "display_data"
    }
   ],
   "source": [
    "sns.lineplot(cassava_df['Year'],cassava_df['Production'])"
   ]
  },
  {
   "cell_type": "code",
   "execution_count": 225,
   "metadata": {},
   "outputs": [
    {
     "data": {
      "text/plain": [
       "<seaborn.axisgrid.JointGrid at 0x21381788e08>"
      ]
     },
     "execution_count": 225,
     "metadata": {},
     "output_type": "execute_result"
    },
    {
     "data": {
      "text/plain": [
       "<Figure size 1440x720 with 0 Axes>"
      ]
     },
     "metadata": {},
     "output_type": "display_data"
    },
    {
     "data": {
      "image/png": "[encoded data removed]",
      "text/plain": [
       "<Figure size 432x432 with 3 Axes>"
      ]
     },
     "metadata": {
      "needs_background": "light"
     },
     "output_type": "display_data"
    }
   ],
   "source": [
    "plt.figure(figsize=(20,10))\n",
    "sns.jointplot(cassava_df[\"Harvested Area\"],cassava_df[\"Production\"],kind='reg')"
   ]
  },
  {
   "cell_type": "code",
   "execution_count": 226,
   "metadata": {},
   "outputs": [
    {
     "name": "stdout",
     "output_type": "stream",
     "text": [
      "(35, 6)\n"
     ]
    },
    {
     "data": {
      "text/html": [
       "<div>\n",
       "<style scoped>\n",
       "    .dataframe tbody tr th:only-of-type {\n",
       "        vertical-align: middle;\n",
       "    }\n",
       "\n",
       "    .dataframe tbody tr th {\n",
       "        vertical-align: top;\n",
       "    }\n",
       "\n",
       "    .dataframe thead th {\n",
       "        text-align: right;\n",
       "    }\n",
       "</style>\n",
       "<table border=\"1\" class=\"dataframe\">\n",
       "  <thead>\n",
       "    <tr style=\"text-align: right;\">\n",
       "      <th></th>\n",
       "      <th>Area</th>\n",
       "      <th>Crop</th>\n",
       "      <th>Year</th>\n",
       "      <th>Harvested Area</th>\n",
       "      <th>Yield</th>\n",
       "      <th>Production</th>\n",
       "    </tr>\n",
       "  </thead>\n",
       "  <tbody>\n",
       "    <tr>\n",
       "      <td>1260</td>\n",
       "      <td>Nigeria</td>\n",
       "      <td>Yams</td>\n",
       "      <td>1971</td>\n",
       "      <td>1236000</td>\n",
       "      <td>79013</td>\n",
       "      <td>9766000</td>\n",
       "    </tr>\n",
       "    <tr>\n",
       "      <td>1261</td>\n",
       "      <td>Nigeria</td>\n",
       "      <td>Yams</td>\n",
       "      <td>1972</td>\n",
       "      <td>932000</td>\n",
       "      <td>74034</td>\n",
       "      <td>6900000</td>\n",
       "    </tr>\n",
       "    <tr>\n",
       "      <td>1262</td>\n",
       "      <td>Nigeria</td>\n",
       "      <td>Yams</td>\n",
       "      <td>1973</td>\n",
       "      <td>948000</td>\n",
       "      <td>73154</td>\n",
       "      <td>6935000</td>\n",
       "    </tr>\n",
       "    <tr>\n",
       "      <td>1263</td>\n",
       "      <td>Nigeria</td>\n",
       "      <td>Yams</td>\n",
       "      <td>1974</td>\n",
       "      <td>671000</td>\n",
       "      <td>106706</td>\n",
       "      <td>7160000</td>\n",
       "    </tr>\n",
       "    <tr>\n",
       "      <td>1264</td>\n",
       "      <td>Nigeria</td>\n",
       "      <td>Yams</td>\n",
       "      <td>1975</td>\n",
       "      <td>776000</td>\n",
       "      <td>111095</td>\n",
       "      <td>8621000</td>\n",
       "    </tr>\n",
       "  </tbody>\n",
       "</table>\n",
       "</div>"
      ],
      "text/plain": [
       "         Area  Crop  Year  Harvested Area   Yield  Production\n",
       "1260  Nigeria  Yams  1971         1236000   79013     9766000\n",
       "1261  Nigeria  Yams  1972          932000   74034     6900000\n",
       "1262  Nigeria  Yams  1973          948000   73154     6935000\n",
       "1263  Nigeria  Yams  1974          671000  106706     7160000\n",
       "1264  Nigeria  Yams  1975          776000  111095     8621000"
      ]
     },
     "execution_count": 226,
     "metadata": {},
     "output_type": "execute_result"
    }
   ],
   "source": [
    "yam_df = agric_data[agric_data[\"Crop\"]==\"Yams\"]\n",
    "print(yam_df.shape)\n",
    "yam_df[:5]"
   ]
  },
  {
   "cell_type": "code",
   "execution_count": 227,
   "metadata": {},
   "outputs": [
    {
     "data": {
      "image/png": "[encoded data removed]",
      "text/plain": [
       "<Figure size 1080x720 with 1 Axes>"
      ]
     },
     "metadata": {
      "needs_background": "light"
     },
     "output_type": "display_data"
    }
   ],
   "source": [
    "plt.figure(figsize=(15,10))\n",
    "sns.barplot(\"Year\",\"Production\",data=yam_df)\n",
    "plt.xticks(rotation=45)\n",
    "plt.show()"
   ]
  },
  {
   "cell_type": "code",
   "execution_count": 193,
   "metadata": {},
   "outputs": [
    {
     "data": {
      "text/plain": [
       "<matplotlib.axes._subplots.AxesSubplot at 0x213800a5348>"
      ]
     },
     "execution_count": 193,
     "metadata": {},
     "output_type": "execute_result"
    },
    {
     "data": {
      "image/png": "[encoded data removed]",
      "text/plain": [
       "<Figure size 432x288 with 1 Axes>"
      ]
     },
     "metadata": {
      "needs_background": "light"
     },
     "output_type": "display_data"
    }
   ],
   "source": [
    "sns.lineplot(yam_df['Year'],yam_df['Production'])"
   ]
  },
  {
   "cell_type": "code",
   "execution_count": 106,
   "metadata": {},
   "outputs": [
    {
     "data": {
      "image/png": "[encoded data removed]",
      "text/plain": [
       "<Figure size 1080x720 with 1 Axes>"
      ]
     },
     "metadata": {
      "needs_background": "light"
     },
     "output_type": "display_data"
    }
   ],
   "source": [
    "plt.figure(figsize=(15,10))\n",
    "sns.barplot(\"Year\",\"Harvested Area\",data=yam_df)\n",
    "plt.xticks(rotation=45)\n",
    "plt.show()"
   ]
  },
  {
   "cell_type": "code",
   "execution_count": 107,
   "metadata": {},
   "outputs": [
    {
     "data": {
      "text/plain": [
       "<matplotlib.axes._subplots.AxesSubplot at 0x213806a98c8>"
      ]
     },
     "execution_count": 107,
     "metadata": {},
     "output_type": "execute_result"
    },
    {
     "data": {
      "image/png": "[encoded data removed]",
      "text/plain": [
       "<Figure size 432x288 with 1 Axes>"
      ]
     },
     "metadata": {
      "needs_background": "light"
     },
     "output_type": "display_data"
    }
   ],
   "source": [
    "sns.lineplot(yam_df['Year'],yam_df['Yield'])"
   ]
  },
  {
   "cell_type": "code",
   "execution_count": null,
   "metadata": {},
   "outputs": [],
   "source": []
  },
  {
   "cell_type": "code",
   "execution_count": 108,
   "metadata": {},
   "outputs": [
    {
     "data": {
      "text/plain": [
       "<seaborn.axisgrid.JointGrid at 0x21380762a88>"
      ]
     },
     "execution_count": 108,
     "metadata": {},
     "output_type": "execute_result"
    },
    {
     "data": {
      "image/png": "[encoded data removed]",
      "text/plain": [
       "<Figure size 432x432 with 3 Axes>"
      ]
     },
     "metadata": {
      "needs_background": "light"
     },
     "output_type": "display_data"
    }
   ],
   "source": [
    "sns.jointplot(\"Harvested Area\",\"Production\",data=yam_df,kind=\"reg\")"
   ]
  },
  {
   "cell_type": "code",
   "execution_count": 109,
   "metadata": {},
   "outputs": [
    {
     "name": "stdout",
     "output_type": "stream",
     "text": [
      "(35, 6)\n"
     ]
    },
    {
     "data": {
      "text/html": [
       "<div>\n",
       "<style scoped>\n",
       "    .dataframe tbody tr th:only-of-type {\n",
       "        vertical-align: middle;\n",
       "    }\n",
       "\n",
       "    .dataframe tbody tr th {\n",
       "        vertical-align: top;\n",
       "    }\n",
       "\n",
       "    .dataframe thead th {\n",
       "        text-align: right;\n",
       "    }\n",
       "</style>\n",
       "<table border=\"1\" class=\"dataframe\">\n",
       "  <thead>\n",
       "    <tr style=\"text-align: right;\">\n",
       "      <th></th>\n",
       "      <th>Area</th>\n",
       "      <th>Crop</th>\n",
       "      <th>Year</th>\n",
       "      <th>Harvested Area</th>\n",
       "      <th>Yield</th>\n",
       "      <th>Production</th>\n",
       "    </tr>\n",
       "  </thead>\n",
       "  <tbody>\n",
       "    <tr>\n",
       "      <td>560</td>\n",
       "      <td>Nigeria</td>\n",
       "      <td>Oil palm fruit</td>\n",
       "      <td>1971</td>\n",
       "      <td>2150000</td>\n",
       "      <td>25000</td>\n",
       "      <td>5375000</td>\n",
       "    </tr>\n",
       "    <tr>\n",
       "      <td>561</td>\n",
       "      <td>Nigeria</td>\n",
       "      <td>Oil palm fruit</td>\n",
       "      <td>1972</td>\n",
       "      <td>2000000</td>\n",
       "      <td>25000</td>\n",
       "      <td>5000000</td>\n",
       "    </tr>\n",
       "    <tr>\n",
       "      <td>562</td>\n",
       "      <td>Nigeria</td>\n",
       "      <td>Oil palm fruit</td>\n",
       "      <td>1973</td>\n",
       "      <td>2000000</td>\n",
       "      <td>25000</td>\n",
       "      <td>5000000</td>\n",
       "    </tr>\n",
       "  </tbody>\n",
       "</table>\n",
       "</div>"
      ],
      "text/plain": [
       "        Area            Crop  Year  Harvested Area  Yield  Production\n",
       "560  Nigeria  Oil palm fruit  1971         2150000  25000     5375000\n",
       "561  Nigeria  Oil palm fruit  1972         2000000  25000     5000000\n",
       "562  Nigeria  Oil palm fruit  1973         2000000  25000     5000000"
      ]
     },
     "execution_count": 109,
     "metadata": {},
     "output_type": "execute_result"
    }
   ],
   "source": [
    "Oil_df = agric_data[agric_data[\"Crop\"]==\"Oil palm fruit\"]\n",
    "print(Oil_df.shape)\n",
    "Oil_df[:3]"
   ]
  },
  {
   "cell_type": "code",
   "execution_count": 110,
   "metadata": {},
   "outputs": [
    {
     "data": {
      "text/plain": [
       "<matplotlib.axes._subplots.AxesSubplot at 0x21380859748>"
      ]
     },
     "execution_count": 110,
     "metadata": {},
     "output_type": "execute_result"
    },
    {
     "data": {
      "image/png": "[encoded data removed]",
      "text/plain": [
       "<Figure size 1800x1080 with 1 Axes>"
      ]
     },
     "metadata": {
      "needs_background": "light"
     },
     "output_type": "display_data"
    }
   ],
   "source": [
    "plt.figure(figsize=(25,15))\n",
    "sns.barplot(\"Year\",\"Production\",data=Oil_df)"
   ]
  },
  {
   "cell_type": "code",
   "execution_count": 228,
   "metadata": {},
   "outputs": [
    {
     "data": {
      "text/plain": [
       "<matplotlib.axes._subplots.AxesSubplot at 0x21384772048>"
      ]
     },
     "execution_count": 228,
     "metadata": {},
     "output_type": "execute_result"
    },
    {
     "data": {
      "image/png": "[encoded data removed]",
      "text/plain": [
       "<Figure size 432x288 with 1 Axes>"
      ]
     },
     "metadata": {
      "needs_background": "light"
     },
     "output_type": "display_data"
    }
   ],
   "source": [
    "sns.lineplot(Oil_df['Year'],Oil_df['Production'])"
   ]
  },
  {
   "cell_type": "code",
   "execution_count": 111,
   "metadata": {},
   "outputs": [
    {
     "data": {
      "text/plain": [
       "<seaborn.axisgrid.JointGrid at 0x21380809488>"
      ]
     },
     "execution_count": 111,
     "metadata": {},
     "output_type": "execute_result"
    },
    {
     "data": {
      "image/png": "[encoded data removed]",
      "text/plain": [
       "<Figure size 432x432 with 3 Axes>"
      ]
     },
     "metadata": {
      "needs_background": "light"
     },
     "output_type": "display_data"
    }
   ],
   "source": [
    "sns.jointplot(\"Harvested Area\",\"Production\",data=Oil_df,kind=\"reg\")"
   ]
  },
  {
   "cell_type": "code",
   "execution_count": 112,
   "metadata": {},
   "outputs": [
    {
     "name": "stdout",
     "output_type": "stream",
     "text": [
      "(35, 6)\n"
     ]
    },
    {
     "data": {
      "text/html": [
       "<div>\n",
       "<style scoped>\n",
       "    .dataframe tbody tr th:only-of-type {\n",
       "        vertical-align: middle;\n",
       "    }\n",
       "\n",
       "    .dataframe tbody tr th {\n",
       "        vertical-align: top;\n",
       "    }\n",
       "\n",
       "    .dataframe thead th {\n",
       "        text-align: right;\n",
       "    }\n",
       "</style>\n",
       "<table border=\"1\" class=\"dataframe\">\n",
       "  <thead>\n",
       "    <tr style=\"text-align: right;\">\n",
       "      <th></th>\n",
       "      <th>Area</th>\n",
       "      <th>Crop</th>\n",
       "      <th>Year</th>\n",
       "      <th>Harvested Area</th>\n",
       "      <th>Yield</th>\n",
       "      <th>Production</th>\n",
       "    </tr>\n",
       "  </thead>\n",
       "  <tbody>\n",
       "    <tr>\n",
       "      <td>840</td>\n",
       "      <td>Nigeria</td>\n",
       "      <td>Rice, paddy</td>\n",
       "      <td>1971</td>\n",
       "      <td>304000</td>\n",
       "      <td>12763</td>\n",
       "      <td>388000</td>\n",
       "    </tr>\n",
       "    <tr>\n",
       "      <td>841</td>\n",
       "      <td>Nigeria</td>\n",
       "      <td>Rice, paddy</td>\n",
       "      <td>1972</td>\n",
       "      <td>237000</td>\n",
       "      <td>18861</td>\n",
       "      <td>447000</td>\n",
       "    </tr>\n",
       "    <tr>\n",
       "      <td>842</td>\n",
       "      <td>Nigeria</td>\n",
       "      <td>Rice, paddy</td>\n",
       "      <td>1973</td>\n",
       "      <td>373000</td>\n",
       "      <td>13056</td>\n",
       "      <td>487000</td>\n",
       "    </tr>\n",
       "  </tbody>\n",
       "</table>\n",
       "</div>"
      ],
      "text/plain": [
       "        Area         Crop  Year  Harvested Area  Yield  Production\n",
       "840  Nigeria  Rice, paddy  1971          304000  12763      388000\n",
       "841  Nigeria  Rice, paddy  1972          237000  18861      447000\n",
       "842  Nigeria  Rice, paddy  1973          373000  13056      487000"
      ]
     },
     "execution_count": 112,
     "metadata": {},
     "output_type": "execute_result"
    }
   ],
   "source": [
    "Rice_df = agric_data[agric_data[\"Crop\"]==\"Rice, paddy\"]\n",
    "print(Rice_df.shape)\n",
    "Rice_df[:3]"
   ]
  },
  {
   "cell_type": "code",
   "execution_count": 113,
   "metadata": {},
   "outputs": [
    {
     "data": {
      "text/plain": [
       "<matplotlib.axes._subplots.AxesSubplot at 0x21380d5fe08>"
      ]
     },
     "execution_count": 113,
     "metadata": {},
     "output_type": "execute_result"
    },
    {
     "data": {
      "image/png": "[encoded data removed]",
      "text/plain": [
       "<Figure size 1800x1080 with 1 Axes>"
      ]
     },
     "metadata": {
      "needs_background": "light"
     },
     "output_type": "display_data"
    }
   ],
   "source": [
    "plt.figure(figsize=(25,15))\n",
    "sns.barplot(\"Year\",\"Production\",data=Rice_df)"
   ]
  },
  {
   "cell_type": "code",
   "execution_count": 197,
   "metadata": {},
   "outputs": [
    {
     "data": {
      "text/plain": [
       "<matplotlib.axes._subplots.AxesSubplot at 0x213809da948>"
      ]
     },
     "execution_count": 197,
     "metadata": {},
     "output_type": "execute_result"
    },
    {
     "data": {
      "image/png": "[encoded data removed]",
      "text/plain": [
       "<Figure size 432x288 with 1 Axes>"
      ]
     },
     "metadata": {
      "needs_background": "light"
     },
     "output_type": "display_data"
    }
   ],
   "source": [
    "sns.lineplot(Rice_df['Year'],Rice_df['Production'])"
   ]
  },
  {
   "cell_type": "code",
   "execution_count": 114,
   "metadata": {},
   "outputs": [
    {
     "data": {
      "text/plain": [
       "<seaborn.axisgrid.JointGrid at 0x213804e5b88>"
      ]
     },
     "execution_count": 114,
     "metadata": {},
     "output_type": "execute_result"
    },
    {
     "data": {
      "image/png": "[encoded data removed]",
      "text/plain": [
       "<Figure size 432x432 with 3 Axes>"
      ]
     },
     "metadata": {
      "needs_background": "light"
     },
     "output_type": "display_data"
    }
   ],
   "source": [
    "sns.jointplot(\"Harvested Area\",\"Production\",data=Rice_df,kind=\"reg\")"
   ]
  },
  {
   "cell_type": "code",
   "execution_count": 115,
   "metadata": {},
   "outputs": [
    {
     "name": "stdout",
     "output_type": "stream",
     "text": [
      "(35, 6)\n"
     ]
    },
    {
     "data": {
      "text/html": [
       "<div>\n",
       "<style scoped>\n",
       "    .dataframe tbody tr th:only-of-type {\n",
       "        vertical-align: middle;\n",
       "    }\n",
       "\n",
       "    .dataframe tbody tr th {\n",
       "        vertical-align: top;\n",
       "    }\n",
       "\n",
       "    .dataframe thead th {\n",
       "        text-align: right;\n",
       "    }\n",
       "</style>\n",
       "<table border=\"1\" class=\"dataframe\">\n",
       "  <thead>\n",
       "    <tr style=\"text-align: right;\">\n",
       "      <th></th>\n",
       "      <th>Area</th>\n",
       "      <th>Crop</th>\n",
       "      <th>Year</th>\n",
       "      <th>Harvested Area</th>\n",
       "      <th>Yield</th>\n",
       "      <th>Production</th>\n",
       "    </tr>\n",
       "  </thead>\n",
       "  <tbody>\n",
       "    <tr>\n",
       "      <td>385</td>\n",
       "      <td>Nigeria</td>\n",
       "      <td>Maize</td>\n",
       "      <td>1971</td>\n",
       "      <td>1218000</td>\n",
       "      <td>10460</td>\n",
       "      <td>1274000</td>\n",
       "    </tr>\n",
       "    <tr>\n",
       "      <td>386</td>\n",
       "      <td>Nigeria</td>\n",
       "      <td>Maize</td>\n",
       "      <td>1972</td>\n",
       "      <td>1115000</td>\n",
       "      <td>5731</td>\n",
       "      <td>639000</td>\n",
       "    </tr>\n",
       "    <tr>\n",
       "      <td>387</td>\n",
       "      <td>Nigeria</td>\n",
       "      <td>Maize</td>\n",
       "      <td>1973</td>\n",
       "      <td>1246000</td>\n",
       "      <td>6485</td>\n",
       "      <td>808000</td>\n",
       "    </tr>\n",
       "  </tbody>\n",
       "</table>\n",
       "</div>"
      ],
      "text/plain": [
       "        Area   Crop  Year  Harvested Area  Yield  Production\n",
       "385  Nigeria  Maize  1971         1218000  10460     1274000\n",
       "386  Nigeria  Maize  1972         1115000   5731      639000\n",
       "387  Nigeria  Maize  1973         1246000   6485      808000"
      ]
     },
     "execution_count": 115,
     "metadata": {},
     "output_type": "execute_result"
    }
   ],
   "source": [
    "Maize_df = agric_data[agric_data[\"Crop\"]==\"Maize\"]\n",
    "print(Maize_df.shape)\n",
    "Maize_df[:3]"
   ]
  },
  {
   "cell_type": "code",
   "execution_count": 116,
   "metadata": {},
   "outputs": [
    {
     "data": {
      "text/plain": [
       "<matplotlib.axes._subplots.AxesSubplot at 0x213804b0508>"
      ]
     },
     "execution_count": 116,
     "metadata": {},
     "output_type": "execute_result"
    },
    {
     "data": {
      "image/png": "[encoded data removed]",
      "text/plain": [
       "<Figure size 1800x1080 with 1 Axes>"
      ]
     },
     "metadata": {
      "needs_background": "light"
     },
     "output_type": "display_data"
    }
   ],
   "source": [
    "plt.figure(figsize=(25,15))\n",
    "sns.barplot(\"Year\",\"Production\",data=Maize_df)"
   ]
  },
  {
   "cell_type": "code",
   "execution_count": 229,
   "metadata": {},
   "outputs": [
    {
     "data": {
      "text/plain": [
       "<matplotlib.axes._subplots.AxesSubplot at 0x213844a3dc8>"
      ]
     },
     "execution_count": 229,
     "metadata": {},
     "output_type": "execute_result"
    },
    {
     "data": {
      "image/png": "[encoded data removed]",
      "text/plain": [
       "<Figure size 432x288 with 1 Axes>"
      ]
     },
     "metadata": {
      "needs_background": "light"
     },
     "output_type": "display_data"
    }
   ],
   "source": [
    "sns.lineplot(Maize_df['Year'],Maize_df['Production'])"
   ]
  },
  {
   "cell_type": "code",
   "execution_count": 117,
   "metadata": {},
   "outputs": [
    {
     "data": {
      "text/html": [
       "<div>\n",
       "<style scoped>\n",
       "    .dataframe tbody tr th:only-of-type {\n",
       "        vertical-align: middle;\n",
       "    }\n",
       "\n",
       "    .dataframe tbody tr th {\n",
       "        vertical-align: top;\n",
       "    }\n",
       "\n",
       "    .dataframe thead th {\n",
       "        text-align: right;\n",
       "    }\n",
       "</style>\n",
       "<table border=\"1\" class=\"dataframe\">\n",
       "  <thead>\n",
       "    <tr style=\"text-align: right;\">\n",
       "      <th></th>\n",
       "      <th>Crop</th>\n",
       "      <th>Year</th>\n",
       "      <th>Harvested Area</th>\n",
       "      <th>Yield</th>\n",
       "      <th>Production</th>\n",
       "    </tr>\n",
       "  </thead>\n",
       "  <tbody>\n",
       "    <tr>\n",
       "      <td>0</td>\n",
       "      <td>Carrots and turnips</td>\n",
       "      <td>1971</td>\n",
       "      <td>20000</td>\n",
       "      <td>75000</td>\n",
       "      <td>150000</td>\n",
       "    </tr>\n",
       "    <tr>\n",
       "      <td>1</td>\n",
       "      <td>Carrots and turnips</td>\n",
       "      <td>1972</td>\n",
       "      <td>20000</td>\n",
       "      <td>75000</td>\n",
       "      <td>150000</td>\n",
       "    </tr>\n",
       "    <tr>\n",
       "      <td>2</td>\n",
       "      <td>Carrots and turnips</td>\n",
       "      <td>1973</td>\n",
       "      <td>20000</td>\n",
       "      <td>75000</td>\n",
       "      <td>150000</td>\n",
       "    </tr>\n",
       "    <tr>\n",
       "      <td>3</td>\n",
       "      <td>Carrots and turnips</td>\n",
       "      <td>1974</td>\n",
       "      <td>20000</td>\n",
       "      <td>75000</td>\n",
       "      <td>150000</td>\n",
       "    </tr>\n",
       "    <tr>\n",
       "      <td>4</td>\n",
       "      <td>Carrots and turnips</td>\n",
       "      <td>1975</td>\n",
       "      <td>20000</td>\n",
       "      <td>75000</td>\n",
       "      <td>150000</td>\n",
       "    </tr>\n",
       "  </tbody>\n",
       "</table>\n",
       "</div>"
      ],
      "text/plain": [
       "                  Crop  Year  Harvested Area  Yield  Production\n",
       "0  Carrots and turnips  1971           20000  75000      150000\n",
       "1  Carrots and turnips  1972           20000  75000      150000\n",
       "2  Carrots and turnips  1973           20000  75000      150000\n",
       "3  Carrots and turnips  1974           20000  75000      150000\n",
       "4  Carrots and turnips  1975           20000  75000      150000"
      ]
     },
     "execution_count": 117,
     "metadata": {},
     "output_type": "execute_result"
    }
   ],
   "source": [
    "agric_data = agric_data.drop([\"Area\"],axis=1)\n",
    "agric_data.head()"
   ]
  },
  {
   "cell_type": "code",
   "execution_count": 118,
   "metadata": {},
   "outputs": [
    {
     "data": {
      "text/html": [
       "<div>\n",
       "<style scoped>\n",
       "    .dataframe tbody tr th:only-of-type {\n",
       "        vertical-align: middle;\n",
       "    }\n",
       "\n",
       "    .dataframe tbody tr th {\n",
       "        vertical-align: top;\n",
       "    }\n",
       "\n",
       "    .dataframe thead th {\n",
       "        text-align: right;\n",
       "    }\n",
       "</style>\n",
       "<table border=\"1\" class=\"dataframe\">\n",
       "  <thead>\n",
       "    <tr style=\"text-align: right;\">\n",
       "      <th></th>\n",
       "      <th>Area</th>\n",
       "      <th>Crop</th>\n",
       "      <th>Year</th>\n",
       "      <th>Harvested Area</th>\n",
       "      <th>Yield</th>\n",
       "      <th>Production</th>\n",
       "    </tr>\n",
       "  </thead>\n",
       "  <tbody>\n",
       "    <tr>\n",
       "      <td>0</td>\n",
       "      <td>Nigeria</td>\n",
       "      <td>Cassava</td>\n",
       "      <td>1971</td>\n",
       "      <td>900000</td>\n",
       "      <td>101911</td>\n",
       "      <td>9172000</td>\n",
       "    </tr>\n",
       "    <tr>\n",
       "      <td>1</td>\n",
       "      <td>Nigeria</td>\n",
       "      <td>Cassava</td>\n",
       "      <td>1972</td>\n",
       "      <td>960000</td>\n",
       "      <td>99688</td>\n",
       "      <td>9570000</td>\n",
       "    </tr>\n",
       "    <tr>\n",
       "      <td>2</td>\n",
       "      <td>Nigeria</td>\n",
       "      <td>Cassava</td>\n",
       "      <td>1973</td>\n",
       "      <td>970000</td>\n",
       "      <td>98969</td>\n",
       "      <td>9600000</td>\n",
       "    </tr>\n",
       "    <tr>\n",
       "      <td>3</td>\n",
       "      <td>Nigeria</td>\n",
       "      <td>Cassava</td>\n",
       "      <td>1974</td>\n",
       "      <td>1000000</td>\n",
       "      <td>95000</td>\n",
       "      <td>9500000</td>\n",
       "    </tr>\n",
       "    <tr>\n",
       "      <td>4</td>\n",
       "      <td>Nigeria</td>\n",
       "      <td>Cassava</td>\n",
       "      <td>1975</td>\n",
       "      <td>1050000</td>\n",
       "      <td>100000</td>\n",
       "      <td>10500000</td>\n",
       "    </tr>\n",
       "    <tr>\n",
       "      <td>...</td>\n",
       "      <td>...</td>\n",
       "      <td>...</td>\n",
       "      <td>...</td>\n",
       "      <td>...</td>\n",
       "      <td>...</td>\n",
       "      <td>...</td>\n",
       "    </tr>\n",
       "    <tr>\n",
       "      <td>65</td>\n",
       "      <td>Nigeria</td>\n",
       "      <td>Yams</td>\n",
       "      <td>2001</td>\n",
       "      <td>2677000</td>\n",
       "      <td>97990</td>\n",
       "      <td>26232000</td>\n",
       "    </tr>\n",
       "    <tr>\n",
       "      <td>66</td>\n",
       "      <td>Nigeria</td>\n",
       "      <td>Yams</td>\n",
       "      <td>2002</td>\n",
       "      <td>2794000</td>\n",
       "      <td>99896</td>\n",
       "      <td>27911000</td>\n",
       "    </tr>\n",
       "    <tr>\n",
       "      <td>67</td>\n",
       "      <td>Nigeria</td>\n",
       "      <td>Yams</td>\n",
       "      <td>2003</td>\n",
       "      <td>2828000</td>\n",
       "      <td>105011</td>\n",
       "      <td>29697000</td>\n",
       "    </tr>\n",
       "    <tr>\n",
       "      <td>68</td>\n",
       "      <td>Nigeria</td>\n",
       "      <td>Yams</td>\n",
       "      <td>2004</td>\n",
       "      <td>2837000</td>\n",
       "      <td>112006</td>\n",
       "      <td>31776000</td>\n",
       "    </tr>\n",
       "    <tr>\n",
       "      <td>69</td>\n",
       "      <td>Nigeria</td>\n",
       "      <td>Yams</td>\n",
       "      <td>2005</td>\n",
       "      <td>2957000</td>\n",
       "      <td>114981</td>\n",
       "      <td>34000000</td>\n",
       "    </tr>\n",
       "  </tbody>\n",
       "</table>\n",
       "<p>70 rows × 6 columns</p>\n",
       "</div>"
      ],
      "text/plain": [
       "       Area     Crop  Year  Harvested Area   Yield  Production\n",
       "0   Nigeria  Cassava  1971          900000  101911     9172000\n",
       "1   Nigeria  Cassava  1972          960000   99688     9570000\n",
       "2   Nigeria  Cassava  1973          970000   98969     9600000\n",
       "3   Nigeria  Cassava  1974         1000000   95000     9500000\n",
       "4   Nigeria  Cassava  1975         1050000  100000    10500000\n",
       "..      ...      ...   ...             ...     ...         ...\n",
       "65  Nigeria     Yams  2001         2677000   97990    26232000\n",
       "66  Nigeria     Yams  2002         2794000   99896    27911000\n",
       "67  Nigeria     Yams  2003         2828000  105011    29697000\n",
       "68  Nigeria     Yams  2004         2837000  112006    31776000\n",
       "69  Nigeria     Yams  2005         2957000  114981    34000000\n",
       "\n",
       "[70 rows x 6 columns]"
      ]
     },
     "execution_count": 118,
     "metadata": {},
     "output_type": "execute_result"
    }
   ],
   "source": [
    "First = cassava_df.merge(yam_df,how = 'outer')\n",
    "First"
   ]
  },
  {
   "cell_type": "code",
   "execution_count": 119,
   "metadata": {},
   "outputs": [
    {
     "data": {
      "text/html": [
       "<div>\n",
       "<style scoped>\n",
       "    .dataframe tbody tr th:only-of-type {\n",
       "        vertical-align: middle;\n",
       "    }\n",
       "\n",
       "    .dataframe tbody tr th {\n",
       "        vertical-align: top;\n",
       "    }\n",
       "\n",
       "    .dataframe thead th {\n",
       "        text-align: right;\n",
       "    }\n",
       "</style>\n",
       "<table border=\"1\" class=\"dataframe\">\n",
       "  <thead>\n",
       "    <tr style=\"text-align: right;\">\n",
       "      <th></th>\n",
       "      <th>Year</th>\n",
       "      <th>Harvested Area</th>\n",
       "      <th>Yield</th>\n",
       "      <th>Production</th>\n",
       "      <th>Crop_Carrots and turnips</th>\n",
       "      <th>Crop_Cashew nuts, with shell</th>\n",
       "      <th>Crop_Cassava</th>\n",
       "      <th>Crop_Chillies and peppers, dry</th>\n",
       "      <th>Crop_Chillies and peppers, green</th>\n",
       "      <th>Crop_Cocoa, beans</th>\n",
       "      <th>...</th>\n",
       "      <th>Crop_Sorghum</th>\n",
       "      <th>Crop_Soybeans</th>\n",
       "      <th>Crop_Sugar cane</th>\n",
       "      <th>Crop_Sweet potatoes</th>\n",
       "      <th>Crop_Taro (cocoyam)</th>\n",
       "      <th>Crop_Tobacco, unmanufactured</th>\n",
       "      <th>Crop_Tomatoes</th>\n",
       "      <th>Crop_Vegetables, fresh nes</th>\n",
       "      <th>Crop_Wheat</th>\n",
       "      <th>Crop_Yams</th>\n",
       "    </tr>\n",
       "  </thead>\n",
       "  <tbody>\n",
       "    <tr>\n",
       "      <td>0</td>\n",
       "      <td>1971</td>\n",
       "      <td>20000</td>\n",
       "      <td>75000</td>\n",
       "      <td>150000</td>\n",
       "      <td>1</td>\n",
       "      <td>0</td>\n",
       "      <td>0</td>\n",
       "      <td>0</td>\n",
       "      <td>0</td>\n",
       "      <td>0</td>\n",
       "      <td>...</td>\n",
       "      <td>0</td>\n",
       "      <td>0</td>\n",
       "      <td>0</td>\n",
       "      <td>0</td>\n",
       "      <td>0</td>\n",
       "      <td>0</td>\n",
       "      <td>0</td>\n",
       "      <td>0</td>\n",
       "      <td>0</td>\n",
       "      <td>0</td>\n",
       "    </tr>\n",
       "    <tr>\n",
       "      <td>1</td>\n",
       "      <td>1972</td>\n",
       "      <td>20000</td>\n",
       "      <td>75000</td>\n",
       "      <td>150000</td>\n",
       "      <td>1</td>\n",
       "      <td>0</td>\n",
       "      <td>0</td>\n",
       "      <td>0</td>\n",
       "      <td>0</td>\n",
       "      <td>0</td>\n",
       "      <td>...</td>\n",
       "      <td>0</td>\n",
       "      <td>0</td>\n",
       "      <td>0</td>\n",
       "      <td>0</td>\n",
       "      <td>0</td>\n",
       "      <td>0</td>\n",
       "      <td>0</td>\n",
       "      <td>0</td>\n",
       "      <td>0</td>\n",
       "      <td>0</td>\n",
       "    </tr>\n",
       "    <tr>\n",
       "      <td>2</td>\n",
       "      <td>1973</td>\n",
       "      <td>20000</td>\n",
       "      <td>75000</td>\n",
       "      <td>150000</td>\n",
       "      <td>1</td>\n",
       "      <td>0</td>\n",
       "      <td>0</td>\n",
       "      <td>0</td>\n",
       "      <td>0</td>\n",
       "      <td>0</td>\n",
       "      <td>...</td>\n",
       "      <td>0</td>\n",
       "      <td>0</td>\n",
       "      <td>0</td>\n",
       "      <td>0</td>\n",
       "      <td>0</td>\n",
       "      <td>0</td>\n",
       "      <td>0</td>\n",
       "      <td>0</td>\n",
       "      <td>0</td>\n",
       "      <td>0</td>\n",
       "    </tr>\n",
       "    <tr>\n",
       "      <td>3</td>\n",
       "      <td>1974</td>\n",
       "      <td>20000</td>\n",
       "      <td>75000</td>\n",
       "      <td>150000</td>\n",
       "      <td>1</td>\n",
       "      <td>0</td>\n",
       "      <td>0</td>\n",
       "      <td>0</td>\n",
       "      <td>0</td>\n",
       "      <td>0</td>\n",
       "      <td>...</td>\n",
       "      <td>0</td>\n",
       "      <td>0</td>\n",
       "      <td>0</td>\n",
       "      <td>0</td>\n",
       "      <td>0</td>\n",
       "      <td>0</td>\n",
       "      <td>0</td>\n",
       "      <td>0</td>\n",
       "      <td>0</td>\n",
       "      <td>0</td>\n",
       "    </tr>\n",
       "    <tr>\n",
       "      <td>4</td>\n",
       "      <td>1975</td>\n",
       "      <td>20000</td>\n",
       "      <td>75000</td>\n",
       "      <td>150000</td>\n",
       "      <td>1</td>\n",
       "      <td>0</td>\n",
       "      <td>0</td>\n",
       "      <td>0</td>\n",
       "      <td>0</td>\n",
       "      <td>0</td>\n",
       "      <td>...</td>\n",
       "      <td>0</td>\n",
       "      <td>0</td>\n",
       "      <td>0</td>\n",
       "      <td>0</td>\n",
       "      <td>0</td>\n",
       "      <td>0</td>\n",
       "      <td>0</td>\n",
       "      <td>0</td>\n",
       "      <td>0</td>\n",
       "      <td>0</td>\n",
       "    </tr>\n",
       "  </tbody>\n",
       "</table>\n",
       "<p>5 rows × 41 columns</p>\n",
       "</div>"
      ],
      "text/plain": [
       "   Year  Harvested Area  Yield  Production  Crop_Carrots and turnips  \\\n",
       "0  1971           20000  75000      150000                         1   \n",
       "1  1972           20000  75000      150000                         1   \n",
       "2  1973           20000  75000      150000                         1   \n",
       "3  1974           20000  75000      150000                         1   \n",
       "4  1975           20000  75000      150000                         1   \n",
       "\n",
       "   Crop_Cashew nuts, with shell  Crop_Cassava  Crop_Chillies and peppers, dry  \\\n",
       "0                             0             0                               0   \n",
       "1                             0             0                               0   \n",
       "2                             0             0                               0   \n",
       "3                             0             0                               0   \n",
       "4                             0             0                               0   \n",
       "\n",
       "   Crop_Chillies and peppers, green  Crop_Cocoa, beans  ...  Crop_Sorghum  \\\n",
       "0                                 0                  0  ...             0   \n",
       "1                                 0                  0  ...             0   \n",
       "2                                 0                  0  ...             0   \n",
       "3                                 0                  0  ...             0   \n",
       "4                                 0                  0  ...             0   \n",
       "\n",
       "   Crop_Soybeans  Crop_Sugar cane  Crop_Sweet potatoes  Crop_Taro (cocoyam)  \\\n",
       "0              0                0                    0                    0   \n",
       "1              0                0                    0                    0   \n",
       "2              0                0                    0                    0   \n",
       "3              0                0                    0                    0   \n",
       "4              0                0                    0                    0   \n",
       "\n",
       "   Crop_Tobacco, unmanufactured  Crop_Tomatoes  Crop_Vegetables, fresh nes  \\\n",
       "0                             0              0                           0   \n",
       "1                             0              0                           0   \n",
       "2                             0              0                           0   \n",
       "3                             0              0                           0   \n",
       "4                             0              0                           0   \n",
       "\n",
       "   Crop_Wheat  Crop_Yams  \n",
       "0           0          0  \n",
       "1           0          0  \n",
       "2           0          0  \n",
       "3           0          0  \n",
       "4           0          0  \n",
       "\n",
       "[5 rows x 41 columns]"
      ]
     },
     "execution_count": 119,
     "metadata": {},
     "output_type": "execute_result"
    }
   ],
   "source": [
    "agric_data = pd.get_dummies(agric_data)\n",
    "agric_data.head()"
   ]
  },
  {
   "cell_type": "code",
   "execution_count": 120,
   "metadata": {},
   "outputs": [
    {
     "data": {
      "text/html": [
       "<div>\n",
       "<style scoped>\n",
       "    .dataframe tbody tr th:only-of-type {\n",
       "        vertical-align: middle;\n",
       "    }\n",
       "\n",
       "    .dataframe tbody tr th {\n",
       "        vertical-align: top;\n",
       "    }\n",
       "\n",
       "    .dataframe thead th {\n",
       "        text-align: right;\n",
       "    }\n",
       "</style>\n",
       "<table border=\"1\" class=\"dataframe\">\n",
       "  <thead>\n",
       "    <tr style=\"text-align: right;\">\n",
       "      <th></th>\n",
       "      <th>Area</th>\n",
       "      <th>Crop</th>\n",
       "      <th>Year</th>\n",
       "      <th>Harvested Area</th>\n",
       "      <th>Yield</th>\n",
       "      <th>Production</th>\n",
       "    </tr>\n",
       "  </thead>\n",
       "  <tbody>\n",
       "    <tr>\n",
       "      <td>0</td>\n",
       "      <td>Nigeria</td>\n",
       "      <td>Cassava</td>\n",
       "      <td>1971</td>\n",
       "      <td>900000</td>\n",
       "      <td>101911</td>\n",
       "      <td>9172000</td>\n",
       "    </tr>\n",
       "    <tr>\n",
       "      <td>1</td>\n",
       "      <td>Nigeria</td>\n",
       "      <td>Cassava</td>\n",
       "      <td>1972</td>\n",
       "      <td>960000</td>\n",
       "      <td>99688</td>\n",
       "      <td>9570000</td>\n",
       "    </tr>\n",
       "    <tr>\n",
       "      <td>2</td>\n",
       "      <td>Nigeria</td>\n",
       "      <td>Cassava</td>\n",
       "      <td>1973</td>\n",
       "      <td>970000</td>\n",
       "      <td>98969</td>\n",
       "      <td>9600000</td>\n",
       "    </tr>\n",
       "    <tr>\n",
       "      <td>3</td>\n",
       "      <td>Nigeria</td>\n",
       "      <td>Cassava</td>\n",
       "      <td>1974</td>\n",
       "      <td>1000000</td>\n",
       "      <td>95000</td>\n",
       "      <td>9500000</td>\n",
       "    </tr>\n",
       "    <tr>\n",
       "      <td>4</td>\n",
       "      <td>Nigeria</td>\n",
       "      <td>Cassava</td>\n",
       "      <td>1975</td>\n",
       "      <td>1050000</td>\n",
       "      <td>100000</td>\n",
       "      <td>10500000</td>\n",
       "    </tr>\n",
       "    <tr>\n",
       "      <td>...</td>\n",
       "      <td>...</td>\n",
       "      <td>...</td>\n",
       "      <td>...</td>\n",
       "      <td>...</td>\n",
       "      <td>...</td>\n",
       "      <td>...</td>\n",
       "    </tr>\n",
       "    <tr>\n",
       "      <td>100</td>\n",
       "      <td>Nigeria</td>\n",
       "      <td>Oil palm fruit</td>\n",
       "      <td>2001</td>\n",
       "      <td>3180000</td>\n",
       "      <td>26730</td>\n",
       "      <td>8500000</td>\n",
       "    </tr>\n",
       "    <tr>\n",
       "      <td>101</td>\n",
       "      <td>Nigeria</td>\n",
       "      <td>Oil palm fruit</td>\n",
       "      <td>2002</td>\n",
       "      <td>3180000</td>\n",
       "      <td>26730</td>\n",
       "      <td>8500000</td>\n",
       "    </tr>\n",
       "    <tr>\n",
       "      <td>102</td>\n",
       "      <td>Nigeria</td>\n",
       "      <td>Oil palm fruit</td>\n",
       "      <td>2003</td>\n",
       "      <td>3300000</td>\n",
       "      <td>26158</td>\n",
       "      <td>8632000</td>\n",
       "    </tr>\n",
       "    <tr>\n",
       "      <td>103</td>\n",
       "      <td>Nigeria</td>\n",
       "      <td>Oil palm fruit</td>\n",
       "      <td>2004</td>\n",
       "      <td>3320000</td>\n",
       "      <td>26205</td>\n",
       "      <td>8700000</td>\n",
       "    </tr>\n",
       "    <tr>\n",
       "      <td>104</td>\n",
       "      <td>Nigeria</td>\n",
       "      <td>Oil palm fruit</td>\n",
       "      <td>2005</td>\n",
       "      <td>3350000</td>\n",
       "      <td>25373</td>\n",
       "      <td>8500000</td>\n",
       "    </tr>\n",
       "  </tbody>\n",
       "</table>\n",
       "<p>105 rows × 6 columns</p>\n",
       "</div>"
      ],
      "text/plain": [
       "        Area            Crop  Year  Harvested Area   Yield  Production\n",
       "0    Nigeria         Cassava  1971          900000  101911     9172000\n",
       "1    Nigeria         Cassava  1972          960000   99688     9570000\n",
       "2    Nigeria         Cassava  1973          970000   98969     9600000\n",
       "3    Nigeria         Cassava  1974         1000000   95000     9500000\n",
       "4    Nigeria         Cassava  1975         1050000  100000    10500000\n",
       "..       ...             ...   ...             ...     ...         ...\n",
       "100  Nigeria  Oil palm fruit  2001         3180000   26730     8500000\n",
       "101  Nigeria  Oil palm fruit  2002         3180000   26730     8500000\n",
       "102  Nigeria  Oil palm fruit  2003         3300000   26158     8632000\n",
       "103  Nigeria  Oil palm fruit  2004         3320000   26205     8700000\n",
       "104  Nigeria  Oil palm fruit  2005         3350000   25373     8500000\n",
       "\n",
       "[105 rows x 6 columns]"
      ]
     },
     "execution_count": 120,
     "metadata": {},
     "output_type": "execute_result"
    }
   ],
   "source": [
    "Second = First.merge(Oil_df,how = 'outer')\n",
    "Second"
   ]
  },
  {
   "cell_type": "code",
   "execution_count": 121,
   "metadata": {},
   "outputs": [
    {
     "data": {
      "text/html": [
       "<div>\n",
       "<style scoped>\n",
       "    .dataframe tbody tr th:only-of-type {\n",
       "        vertical-align: middle;\n",
       "    }\n",
       "\n",
       "    .dataframe tbody tr th {\n",
       "        vertical-align: top;\n",
       "    }\n",
       "\n",
       "    .dataframe thead th {\n",
       "        text-align: right;\n",
       "    }\n",
       "</style>\n",
       "<table border=\"1\" class=\"dataframe\">\n",
       "  <thead>\n",
       "    <tr style=\"text-align: right;\">\n",
       "      <th></th>\n",
       "      <th>Area</th>\n",
       "      <th>Crop</th>\n",
       "      <th>Year</th>\n",
       "      <th>Harvested Area</th>\n",
       "      <th>Yield</th>\n",
       "      <th>Production</th>\n",
       "    </tr>\n",
       "  </thead>\n",
       "  <tbody>\n",
       "    <tr>\n",
       "      <td>0</td>\n",
       "      <td>Nigeria</td>\n",
       "      <td>Cassava</td>\n",
       "      <td>1971</td>\n",
       "      <td>900000</td>\n",
       "      <td>101911</td>\n",
       "      <td>9172000</td>\n",
       "    </tr>\n",
       "    <tr>\n",
       "      <td>1</td>\n",
       "      <td>Nigeria</td>\n",
       "      <td>Cassava</td>\n",
       "      <td>1972</td>\n",
       "      <td>960000</td>\n",
       "      <td>99688</td>\n",
       "      <td>9570000</td>\n",
       "    </tr>\n",
       "    <tr>\n",
       "      <td>2</td>\n",
       "      <td>Nigeria</td>\n",
       "      <td>Cassava</td>\n",
       "      <td>1973</td>\n",
       "      <td>970000</td>\n",
       "      <td>98969</td>\n",
       "      <td>9600000</td>\n",
       "    </tr>\n",
       "    <tr>\n",
       "      <td>3</td>\n",
       "      <td>Nigeria</td>\n",
       "      <td>Cassava</td>\n",
       "      <td>1974</td>\n",
       "      <td>1000000</td>\n",
       "      <td>95000</td>\n",
       "      <td>9500000</td>\n",
       "    </tr>\n",
       "    <tr>\n",
       "      <td>4</td>\n",
       "      <td>Nigeria</td>\n",
       "      <td>Cassava</td>\n",
       "      <td>1975</td>\n",
       "      <td>1050000</td>\n",
       "      <td>100000</td>\n",
       "      <td>10500000</td>\n",
       "    </tr>\n",
       "    <tr>\n",
       "      <td>...</td>\n",
       "      <td>...</td>\n",
       "      <td>...</td>\n",
       "      <td>...</td>\n",
       "      <td>...</td>\n",
       "      <td>...</td>\n",
       "      <td>...</td>\n",
       "    </tr>\n",
       "    <tr>\n",
       "      <td>135</td>\n",
       "      <td>Nigeria</td>\n",
       "      <td>Rice, paddy</td>\n",
       "      <td>2001</td>\n",
       "      <td>2117000</td>\n",
       "      <td>13000</td>\n",
       "      <td>2752000</td>\n",
       "    </tr>\n",
       "    <tr>\n",
       "      <td>136</td>\n",
       "      <td>Nigeria</td>\n",
       "      <td>Rice, paddy</td>\n",
       "      <td>2002</td>\n",
       "      <td>2185000</td>\n",
       "      <td>13400</td>\n",
       "      <td>2928000</td>\n",
       "    </tr>\n",
       "    <tr>\n",
       "      <td>137</td>\n",
       "      <td>Nigeria</td>\n",
       "      <td>Rice, paddy</td>\n",
       "      <td>2003</td>\n",
       "      <td>2210000</td>\n",
       "      <td>14100</td>\n",
       "      <td>3116000</td>\n",
       "    </tr>\n",
       "    <tr>\n",
       "      <td>138</td>\n",
       "      <td>Nigeria</td>\n",
       "      <td>Rice, paddy</td>\n",
       "      <td>2004</td>\n",
       "      <td>2348000</td>\n",
       "      <td>14199</td>\n",
       "      <td>3334000</td>\n",
       "    </tr>\n",
       "    <tr>\n",
       "      <td>139</td>\n",
       "      <td>Nigeria</td>\n",
       "      <td>Rice, paddy</td>\n",
       "      <td>2005</td>\n",
       "      <td>2494000</td>\n",
       "      <td>14302</td>\n",
       "      <td>3567000</td>\n",
       "    </tr>\n",
       "  </tbody>\n",
       "</table>\n",
       "<p>140 rows × 6 columns</p>\n",
       "</div>"
      ],
      "text/plain": [
       "        Area         Crop  Year  Harvested Area   Yield  Production\n",
       "0    Nigeria      Cassava  1971          900000  101911     9172000\n",
       "1    Nigeria      Cassava  1972          960000   99688     9570000\n",
       "2    Nigeria      Cassava  1973          970000   98969     9600000\n",
       "3    Nigeria      Cassava  1974         1000000   95000     9500000\n",
       "4    Nigeria      Cassava  1975         1050000  100000    10500000\n",
       "..       ...          ...   ...             ...     ...         ...\n",
       "135  Nigeria  Rice, paddy  2001         2117000   13000     2752000\n",
       "136  Nigeria  Rice, paddy  2002         2185000   13400     2928000\n",
       "137  Nigeria  Rice, paddy  2003         2210000   14100     3116000\n",
       "138  Nigeria  Rice, paddy  2004         2348000   14199     3334000\n",
       "139  Nigeria  Rice, paddy  2005         2494000   14302     3567000\n",
       "\n",
       "[140 rows x 6 columns]"
      ]
     },
     "execution_count": 121,
     "metadata": {},
     "output_type": "execute_result"
    }
   ],
   "source": [
    "Third = Second.merge(Rice_df,how = 'outer')\n",
    "Third"
   ]
  },
  {
   "cell_type": "code",
   "execution_count": 148,
   "metadata": {},
   "outputs": [
    {
     "data": {
      "text/html": [
       "<div>\n",
       "<style scoped>\n",
       "    .dataframe tbody tr th:only-of-type {\n",
       "        vertical-align: middle;\n",
       "    }\n",
       "\n",
       "    .dataframe tbody tr th {\n",
       "        vertical-align: top;\n",
       "    }\n",
       "\n",
       "    .dataframe thead th {\n",
       "        text-align: right;\n",
       "    }\n",
       "</style>\n",
       "<table border=\"1\" class=\"dataframe\">\n",
       "  <thead>\n",
       "    <tr style=\"text-align: right;\">\n",
       "      <th></th>\n",
       "      <th>Area</th>\n",
       "      <th>Crop</th>\n",
       "      <th>Year</th>\n",
       "      <th>Harvested Area</th>\n",
       "      <th>Yield</th>\n",
       "      <th>Production</th>\n",
       "    </tr>\n",
       "  </thead>\n",
       "  <tbody>\n",
       "    <tr>\n",
       "      <td>0</td>\n",
       "      <td>Nigeria</td>\n",
       "      <td>Cassava</td>\n",
       "      <td>1971</td>\n",
       "      <td>900000</td>\n",
       "      <td>101911</td>\n",
       "      <td>9172000</td>\n",
       "    </tr>\n",
       "    <tr>\n",
       "      <td>1</td>\n",
       "      <td>Nigeria</td>\n",
       "      <td>Cassava</td>\n",
       "      <td>1972</td>\n",
       "      <td>960000</td>\n",
       "      <td>99688</td>\n",
       "      <td>9570000</td>\n",
       "    </tr>\n",
       "    <tr>\n",
       "      <td>2</td>\n",
       "      <td>Nigeria</td>\n",
       "      <td>Cassava</td>\n",
       "      <td>1973</td>\n",
       "      <td>970000</td>\n",
       "      <td>98969</td>\n",
       "      <td>9600000</td>\n",
       "    </tr>\n",
       "    <tr>\n",
       "      <td>3</td>\n",
       "      <td>Nigeria</td>\n",
       "      <td>Cassava</td>\n",
       "      <td>1974</td>\n",
       "      <td>1000000</td>\n",
       "      <td>95000</td>\n",
       "      <td>9500000</td>\n",
       "    </tr>\n",
       "    <tr>\n",
       "      <td>4</td>\n",
       "      <td>Nigeria</td>\n",
       "      <td>Cassava</td>\n",
       "      <td>1975</td>\n",
       "      <td>1050000</td>\n",
       "      <td>100000</td>\n",
       "      <td>10500000</td>\n",
       "    </tr>\n",
       "    <tr>\n",
       "      <td>...</td>\n",
       "      <td>...</td>\n",
       "      <td>...</td>\n",
       "      <td>...</td>\n",
       "      <td>...</td>\n",
       "      <td>...</td>\n",
       "      <td>...</td>\n",
       "    </tr>\n",
       "    <tr>\n",
       "      <td>170</td>\n",
       "      <td>Nigeria</td>\n",
       "      <td>Maize</td>\n",
       "      <td>2001</td>\n",
       "      <td>3283000</td>\n",
       "      <td>13999</td>\n",
       "      <td>4596000</td>\n",
       "    </tr>\n",
       "    <tr>\n",
       "      <td>171</td>\n",
       "      <td>Nigeria</td>\n",
       "      <td>Maize</td>\n",
       "      <td>2002</td>\n",
       "      <td>3282000</td>\n",
       "      <td>14899</td>\n",
       "      <td>4890000</td>\n",
       "    </tr>\n",
       "    <tr>\n",
       "      <td>172</td>\n",
       "      <td>Nigeria</td>\n",
       "      <td>Maize</td>\n",
       "      <td>2003</td>\n",
       "      <td>3469000</td>\n",
       "      <td>14999</td>\n",
       "      <td>5203000</td>\n",
       "    </tr>\n",
       "    <tr>\n",
       "      <td>173</td>\n",
       "      <td>Nigeria</td>\n",
       "      <td>Maize</td>\n",
       "      <td>2004</td>\n",
       "      <td>3479000</td>\n",
       "      <td>16002</td>\n",
       "      <td>5567000</td>\n",
       "    </tr>\n",
       "    <tr>\n",
       "      <td>174</td>\n",
       "      <td>Nigeria</td>\n",
       "      <td>Maize</td>\n",
       "      <td>2005</td>\n",
       "      <td>3589000</td>\n",
       "      <td>16598</td>\n",
       "      <td>5957000</td>\n",
       "    </tr>\n",
       "  </tbody>\n",
       "</table>\n",
       "<p>175 rows × 6 columns</p>\n",
       "</div>"
      ],
      "text/plain": [
       "        Area     Crop  Year  Harvested Area   Yield  Production\n",
       "0    Nigeria  Cassava  1971          900000  101911     9172000\n",
       "1    Nigeria  Cassava  1972          960000   99688     9570000\n",
       "2    Nigeria  Cassava  1973          970000   98969     9600000\n",
       "3    Nigeria  Cassava  1974         1000000   95000     9500000\n",
       "4    Nigeria  Cassava  1975         1050000  100000    10500000\n",
       "..       ...      ...   ...             ...     ...         ...\n",
       "170  Nigeria    Maize  2001         3283000   13999     4596000\n",
       "171  Nigeria    Maize  2002         3282000   14899     4890000\n",
       "172  Nigeria    Maize  2003         3469000   14999     5203000\n",
       "173  Nigeria    Maize  2004         3479000   16002     5567000\n",
       "174  Nigeria    Maize  2005         3589000   16598     5957000\n",
       "\n",
       "[175 rows x 6 columns]"
      ]
     },
     "execution_count": 148,
     "metadata": {},
     "output_type": "execute_result"
    }
   ],
   "source": [
    "final_df = Third.merge(Maize_df,how = 'outer')\n",
    "final_df"
   ]
  },
  {
   "cell_type": "code",
   "execution_count": 230,
   "metadata": {},
   "outputs": [],
   "source": [
    "import numpy as np\n",
    "import matplotlib.pyplot as plt\n",
    "%matplotlib inline"
   ]
  },
  {
   "cell_type": "code",
   "execution_count": 235,
   "metadata": {},
   "outputs": [],
   "source": [
    "x= cassava_df['Year']\n",
    "y1 = cassava_df['Production']\n",
    "y2 = yam_df['Production']\n",
    "y3 = Oil_df['Production']\n",
    "y4 = Rice_df['Production']\n",
    "y5 = Maize_df['Production']"
   ]
  },
  {
   "cell_type": "code",
   "execution_count": 239,
   "metadata": {},
   "outputs": [
    {
     "data": {
      "image/png": "[encoded data removed]",
      "text/plain": [
       "<Figure size 432x288 with 1 Axes>"
      ]
     },
     "metadata": {
      "needs_background": "light"
     },
     "output_type": "display_data"
    }
   ],
   "source": [
    "plt.plot(x,y1,label = 'Cassava')\n",
    "plt.plot(x,y2,label = 'Yam')\n",
    "plt.plot(x,y3,label = 'Oil')\n",
    "plt.plot(x,y4,label = 'Rice')\n",
    "plt.plot(x,y5,label = 'Maize')\n",
    "\n",
    "plt.legend(loc=\"upper left\")\n",
    "\n",
    "plt.title(\"Production Trend\", fontsize=16, fontweight='bold')\n",
    "plt.xlabel(\"Years\")\n",
    "plt.ylabel(\"Production\")\n",
    "plt.show()\n"
   ]
  },
  {
   "cell_type": "code",
   "execution_count": 149,
   "metadata": {},
   "outputs": [
    {
     "data": {
      "text/html": [
       "<div>\n",
       "<style scoped>\n",
       "    .dataframe tbody tr th:only-of-type {\n",
       "        vertical-align: middle;\n",
       "    }\n",
       "\n",
       "    .dataframe tbody tr th {\n",
       "        vertical-align: top;\n",
       "    }\n",
       "\n",
       "    .dataframe thead th {\n",
       "        text-align: right;\n",
       "    }\n",
       "</style>\n",
       "<table border=\"1\" class=\"dataframe\">\n",
       "  <thead>\n",
       "    <tr style=\"text-align: right;\">\n",
       "      <th></th>\n",
       "      <th>count</th>\n",
       "      <th>mean</th>\n",
       "      <th>std</th>\n",
       "      <th>min</th>\n",
       "      <th>25%</th>\n",
       "      <th>50%</th>\n",
       "      <th>75%</th>\n",
       "      <th>max</th>\n",
       "    </tr>\n",
       "  </thead>\n",
       "  <tbody>\n",
       "    <tr>\n",
       "      <td>Year</td>\n",
       "      <td>175.0</td>\n",
       "      <td>1.988000e+03</td>\n",
       "      <td>1.012848e+01</td>\n",
       "      <td>1971.0</td>\n",
       "      <td>1979.0</td>\n",
       "      <td>1988.0</td>\n",
       "      <td>1997.0</td>\n",
       "      <td>2005.0</td>\n",
       "    </tr>\n",
       "    <tr>\n",
       "      <td>Harvested Area</td>\n",
       "      <td>175.0</td>\n",
       "      <td>1.972699e+06</td>\n",
       "      <td>1.196566e+06</td>\n",
       "      <td>172000.0</td>\n",
       "      <td>958000.0</td>\n",
       "      <td>2000000.0</td>\n",
       "      <td>2832500.0</td>\n",
       "      <td>5472000.0</td>\n",
       "    </tr>\n",
       "    <tr>\n",
       "      <td>Yield</td>\n",
       "      <td>175.0</td>\n",
       "      <td>5.069178e+04</td>\n",
       "      <td>4.093207e+04</td>\n",
       "      <td>5731.0</td>\n",
       "      <td>16012.5</td>\n",
       "      <td>26205.0</td>\n",
       "      <td>99014.5</td>\n",
       "      <td>122718.0</td>\n",
       "    </tr>\n",
       "    <tr>\n",
       "      <td>Production</td>\n",
       "      <td>175.0</td>\n",
       "      <td>9.511036e+06</td>\n",
       "      <td>9.783806e+06</td>\n",
       "      <td>218000.0</td>\n",
       "      <td>3271500.0</td>\n",
       "      <td>5768000.0</td>\n",
       "      <td>11000000.0</td>\n",
       "      <td>41565000.0</td>\n",
       "    </tr>\n",
       "  </tbody>\n",
       "</table>\n",
       "</div>"
      ],
      "text/plain": [
       "                count          mean           std       min        25%  \\\n",
       "Year            175.0  1.988000e+03  1.012848e+01    1971.0     1979.0   \n",
       "Harvested Area  175.0  1.972699e+06  1.196566e+06  172000.0   958000.0   \n",
       "Yield           175.0  5.069178e+04  4.093207e+04    5731.0    16012.5   \n",
       "Production      175.0  9.511036e+06  9.783806e+06  218000.0  3271500.0   \n",
       "\n",
       "                      50%         75%         max  \n",
       "Year               1988.0      1997.0      2005.0  \n",
       "Harvested Area  2000000.0   2832500.0   5472000.0  \n",
       "Yield             26205.0     99014.5    122718.0  \n",
       "Production      5768000.0  11000000.0  41565000.0  "
      ]
     },
     "execution_count": 149,
     "metadata": {},
     "output_type": "execute_result"
    }
   ],
   "source": [
    "final_df.describe().T"
   ]
  },
  {
   "cell_type": "code",
   "execution_count": null,
   "metadata": {},
   "outputs": [],
   "source": []
  },
  {
   "cell_type": "code",
   "execution_count": 150,
   "metadata": {},
   "outputs": [
    {
     "data": {
      "text/html": [
       "<div>\n",
       "<style scoped>\n",
       "    .dataframe tbody tr th:only-of-type {\n",
       "        vertical-align: middle;\n",
       "    }\n",
       "\n",
       "    .dataframe tbody tr th {\n",
       "        vertical-align: top;\n",
       "    }\n",
       "\n",
       "    .dataframe thead th {\n",
       "        text-align: right;\n",
       "    }\n",
       "</style>\n",
       "<table border=\"1\" class=\"dataframe\">\n",
       "  <thead>\n",
       "    <tr style=\"text-align: right;\">\n",
       "      <th></th>\n",
       "      <th>Harvested Area</th>\n",
       "      <th>Yield</th>\n",
       "      <th>Production</th>\n",
       "    </tr>\n",
       "  </thead>\n",
       "  <tbody>\n",
       "    <tr>\n",
       "      <td>0</td>\n",
       "      <td>900000</td>\n",
       "      <td>101911</td>\n",
       "      <td>9172000</td>\n",
       "    </tr>\n",
       "    <tr>\n",
       "      <td>1</td>\n",
       "      <td>960000</td>\n",
       "      <td>99688</td>\n",
       "      <td>9570000</td>\n",
       "    </tr>\n",
       "    <tr>\n",
       "      <td>2</td>\n",
       "      <td>970000</td>\n",
       "      <td>98969</td>\n",
       "      <td>9600000</td>\n",
       "    </tr>\n",
       "    <tr>\n",
       "      <td>3</td>\n",
       "      <td>1000000</td>\n",
       "      <td>95000</td>\n",
       "      <td>9500000</td>\n",
       "    </tr>\n",
       "    <tr>\n",
       "      <td>4</td>\n",
       "      <td>1050000</td>\n",
       "      <td>100000</td>\n",
       "      <td>10500000</td>\n",
       "    </tr>\n",
       "    <tr>\n",
       "      <td>...</td>\n",
       "      <td>...</td>\n",
       "      <td>...</td>\n",
       "      <td>...</td>\n",
       "    </tr>\n",
       "    <tr>\n",
       "      <td>170</td>\n",
       "      <td>3283000</td>\n",
       "      <td>13999</td>\n",
       "      <td>4596000</td>\n",
       "    </tr>\n",
       "    <tr>\n",
       "      <td>171</td>\n",
       "      <td>3282000</td>\n",
       "      <td>14899</td>\n",
       "      <td>4890000</td>\n",
       "    </tr>\n",
       "    <tr>\n",
       "      <td>172</td>\n",
       "      <td>3469000</td>\n",
       "      <td>14999</td>\n",
       "      <td>5203000</td>\n",
       "    </tr>\n",
       "    <tr>\n",
       "      <td>173</td>\n",
       "      <td>3479000</td>\n",
       "      <td>16002</td>\n",
       "      <td>5567000</td>\n",
       "    </tr>\n",
       "    <tr>\n",
       "      <td>174</td>\n",
       "      <td>3589000</td>\n",
       "      <td>16598</td>\n",
       "      <td>5957000</td>\n",
       "    </tr>\n",
       "  </tbody>\n",
       "</table>\n",
       "<p>175 rows × 3 columns</p>\n",
       "</div>"
      ],
      "text/plain": [
       "     Harvested Area   Yield  Production\n",
       "0            900000  101911     9172000\n",
       "1            960000   99688     9570000\n",
       "2            970000   98969     9600000\n",
       "3           1000000   95000     9500000\n",
       "4           1050000  100000    10500000\n",
       "..              ...     ...         ...\n",
       "170         3283000   13999     4596000\n",
       "171         3282000   14899     4890000\n",
       "172         3469000   14999     5203000\n",
       "173         3479000   16002     5567000\n",
       "174         3589000   16598     5957000\n",
       "\n",
       "[175 rows x 3 columns]"
      ]
     },
     "execution_count": 150,
     "metadata": {},
     "output_type": "execute_result"
    }
   ],
   "source": [
    "final_df.drop(['Area','Crop','Year'],axis = 1)"
   ]
  },
  {
   "cell_type": "code",
   "execution_count": 174,
   "metadata": {},
   "outputs": [],
   "source": [
    "X1= final_df.drop([\"Production\"],axis=1)\n",
    "Y= final_df[[\"Production\"]]"
   ]
  },
  {
   "cell_type": "code",
   "execution_count": 175,
   "metadata": {},
   "outputs": [
    {
     "data": {
      "text/html": [
       "<div>\n",
       "<style scoped>\n",
       "    .dataframe tbody tr th:only-of-type {\n",
       "        vertical-align: middle;\n",
       "    }\n",
       "\n",
       "    .dataframe tbody tr th {\n",
       "        vertical-align: top;\n",
       "    }\n",
       "\n",
       "    .dataframe thead th {\n",
       "        text-align: right;\n",
       "    }\n",
       "</style>\n",
       "<table border=\"1\" class=\"dataframe\">\n",
       "  <thead>\n",
       "    <tr style=\"text-align: right;\">\n",
       "      <th></th>\n",
       "      <th>Harvested Area</th>\n",
       "      <th>Yield</th>\n",
       "    </tr>\n",
       "  </thead>\n",
       "  <tbody>\n",
       "    <tr>\n",
       "      <td>0</td>\n",
       "      <td>900000</td>\n",
       "      <td>101911</td>\n",
       "    </tr>\n",
       "    <tr>\n",
       "      <td>1</td>\n",
       "      <td>960000</td>\n",
       "      <td>99688</td>\n",
       "    </tr>\n",
       "    <tr>\n",
       "      <td>2</td>\n",
       "      <td>970000</td>\n",
       "      <td>98969</td>\n",
       "    </tr>\n",
       "    <tr>\n",
       "      <td>3</td>\n",
       "      <td>1000000</td>\n",
       "      <td>95000</td>\n",
       "    </tr>\n",
       "    <tr>\n",
       "      <td>4</td>\n",
       "      <td>1050000</td>\n",
       "      <td>100000</td>\n",
       "    </tr>\n",
       "    <tr>\n",
       "      <td>...</td>\n",
       "      <td>...</td>\n",
       "      <td>...</td>\n",
       "    </tr>\n",
       "    <tr>\n",
       "      <td>170</td>\n",
       "      <td>3283000</td>\n",
       "      <td>13999</td>\n",
       "    </tr>\n",
       "    <tr>\n",
       "      <td>171</td>\n",
       "      <td>3282000</td>\n",
       "      <td>14899</td>\n",
       "    </tr>\n",
       "    <tr>\n",
       "      <td>172</td>\n",
       "      <td>3469000</td>\n",
       "      <td>14999</td>\n",
       "    </tr>\n",
       "    <tr>\n",
       "      <td>173</td>\n",
       "      <td>3479000</td>\n",
       "      <td>16002</td>\n",
       "    </tr>\n",
       "    <tr>\n",
       "      <td>174</td>\n",
       "      <td>3589000</td>\n",
       "      <td>16598</td>\n",
       "    </tr>\n",
       "  </tbody>\n",
       "</table>\n",
       "<p>175 rows × 2 columns</p>\n",
       "</div>"
      ],
      "text/plain": [
       "     Harvested Area   Yield\n",
       "0            900000  101911\n",
       "1            960000   99688\n",
       "2            970000   98969\n",
       "3           1000000   95000\n",
       "4           1050000  100000\n",
       "..              ...     ...\n",
       "170         3283000   13999\n",
       "171         3282000   14899\n",
       "172         3469000   14999\n",
       "173         3479000   16002\n",
       "174         3589000   16598\n",
       "\n",
       "[175 rows x 2 columns]"
      ]
     },
     "execution_count": 175,
     "metadata": {},
     "output_type": "execute_result"
    }
   ],
   "source": [
    "X = X1.drop(['Area','Crop','Year'],axis = 1)\n",
    "X"
   ]
  },
  {
   "cell_type": "code",
   "execution_count": 177,
   "metadata": {},
   "outputs": [],
   "source": [
    "from sklearn.model_selection import train_test_split\n",
    "X_train,X_test,Y_train,Y_test = train_test_split(X,Y,test_size = 0.33,random_state = 40)"
   ]
  },
  {
   "cell_type": "code",
   "execution_count": 181,
   "metadata": {},
   "outputs": [
    {
     "data": {
      "text/plain": [
       "(117, 1)"
      ]
     },
     "execution_count": 181,
     "metadata": {},
     "output_type": "execute_result"
    }
   ],
   "source": [
    "X_train.shape\n",
    "X_test.shape\n",
    "Y_train.shape"
   ]
  },
  {
   "cell_type": "code",
   "execution_count": 182,
   "metadata": {},
   "outputs": [
    {
     "data": {
      "text/plain": [
       "LinearRegression(copy_X=True, fit_intercept=True, n_jobs=None, normalize=False)"
      ]
     },
     "execution_count": 182,
     "metadata": {},
     "output_type": "execute_result"
    }
   ],
   "source": [
    "from sklearn.linear_model import LinearRegression\n",
    "model = LinearRegression()\n",
    "model.fit(X_train,Y_train)"
   ]
  },
  {
   "cell_type": "code",
   "execution_count": 183,
   "metadata": {},
   "outputs": [
    {
     "data": {
      "text/plain": [
       "array([[-5103637.60524589],\n",
       "       [10255604.01074992],\n",
       "       [ 8139312.77497809],\n",
       "       [-2265883.06778629],\n",
       "       [12032024.34152875],\n",
       "       [ 6319296.92752743],\n",
       "       [-4386006.81919437],\n",
       "       [-1914136.25134363],\n",
       "       [-2271452.88431702],\n",
       "       [16051419.56401552],\n",
       "       [ 1267626.47386616],\n",
       "       [  757207.29514932],\n",
       "       [-4557167.59713237],\n",
       "       [-2325004.69283313],\n",
       "       [24184667.91804653],\n",
       "       [ 4484611.89329449],\n",
       "       [24063500.45888566],\n",
       "       [ 9466284.77434683],\n",
       "       [19135295.0809987 ],\n",
       "       [-3508513.80554841],\n",
       "       [17825282.37769379],\n",
       "       [ 1712516.68661751],\n",
       "       [26141145.30418484],\n",
       "       [ 9703430.5751936 ],\n",
       "       [25893232.94059016],\n",
       "       [21667456.67635   ],\n",
       "       [ 5275710.56441996],\n",
       "       [-4130725.56549731],\n",
       "       [-1099809.1560068 ],\n",
       "       [15048648.59018914],\n",
       "       [ 7332582.64808314],\n",
       "       [20640518.41716624],\n",
       "       [ -721315.22492684],\n",
       "       [14032278.84709376],\n",
       "       [21584333.5934491 ],\n",
       "       [-2020808.0208583 ],\n",
       "       [-4270462.03690817],\n",
       "       [ 5672993.14806778],\n",
       "       [17878445.61804992],\n",
       "       [ -360050.00881904],\n",
       "       [24402744.70297177],\n",
       "       [   82371.3384173 ],\n",
       "       [13389741.36910072],\n",
       "       [15925950.79979965],\n",
       "       [-4161652.6758969 ],\n",
       "       [ 1696303.2390378 ],\n",
       "       [ 2845740.53282117],\n",
       "       [15419013.51279877],\n",
       "       [ 4752221.31319688],\n",
       "       [ 5774663.12409839],\n",
       "       [ 9107744.95738773],\n",
       "       [-4885073.49156188],\n",
       "       [-4320990.10993439],\n",
       "       [15109623.77027531],\n",
       "       [-4771227.82941593],\n",
       "       [19699109.85299725],\n",
       "       [ 7890270.31919326],\n",
       "       [ 2465960.16714579]])"
      ]
     },
     "execution_count": 183,
     "metadata": {},
     "output_type": "execute_result"
    }
   ],
   "source": [
    "preds = model.predict(X_test)\n",
    "preds"
   ]
  },
  {
   "cell_type": "code",
   "execution_count": 184,
   "metadata": {},
   "outputs": [
    {
     "name": "stdout",
     "output_type": "stream",
     "text": [
      "4508209.490980323\n",
      "0.7754785893518722\n"
     ]
    }
   ],
   "source": [
    "from sklearn.metrics import mean_squared_error, r2_score,accuracy_score\n",
    "from math import sqrt\n",
    "print(sqrt(mean_squared_error(Y_test,preds)))\n",
    "print(r2_score(Y_test,preds))"
   ]
  },
  {
   "cell_type": "code",
   "execution_count": 185,
   "metadata": {},
   "outputs": [
    {
     "name": "stdout",
     "output_type": "stream",
     "text": [
      "[[  3.95549336 203.00591908]]\n",
      "[-8897072.13062858]\n"
     ]
    }
   ],
   "source": [
    "print(model.coef_)\n",
    "print(model.intercept_)\n"
   ]
  },
  {
   "cell_type": "code",
   "execution_count": 186,
   "metadata": {},
   "outputs": [
    {
     "data": {
      "text/plain": [
       "0.7839114473832481"
      ]
     },
     "execution_count": 186,
     "metadata": {},
     "output_type": "execute_result"
    }
   ],
   "source": [
    "model.score(X_train,Y_train)\n"
   ]
  },
  {
   "cell_type": "code",
   "execution_count": 189,
   "metadata": {},
   "outputs": [
    {
     "ename": "ValueError",
     "evalue": "shapes (58,1) and (2,1) not aligned: 1 (dim 1) != 2 (dim 0)",
     "output_type": "error",
     "traceback": [
      "\u001b[1;31m---------------------------------------------------------------------------\u001b[0m",
      "\u001b[1;31mValueError\u001b[0m                                Traceback (most recent call last)",
      "\u001b[1;32m<ipython-input-189-238c819a6796>\u001b[0m in \u001b[0;36m<module>\u001b[1;34m\u001b[0m\n\u001b[1;32m----> 1\u001b[1;33m \u001b[0mmodel\u001b[0m\u001b[1;33m.\u001b[0m\u001b[0mscore\u001b[0m\u001b[1;33m(\u001b[0m\u001b[0mpreds\u001b[0m\u001b[1;33m,\u001b[0m\u001b[0mY_test\u001b[0m\u001b[1;33m)\u001b[0m\u001b[1;33m\u001b[0m\u001b[1;33m\u001b[0m\u001b[0m\n\u001b[0m",
      "\u001b[1;32m~\\Anaconda3\\lib\\site-packages\\sklearn\\base.py\u001b[0m in \u001b[0;36mscore\u001b[1;34m(self, X, y, sample_weight)\u001b[0m\n\u001b[0;32m    406\u001b[0m         \u001b[1;32mfrom\u001b[0m \u001b[1;33m.\u001b[0m\u001b[0mmetrics\u001b[0m \u001b[1;32mimport\u001b[0m \u001b[0mr2_score\u001b[0m\u001b[1;33m\u001b[0m\u001b[1;33m\u001b[0m\u001b[0m\n\u001b[0;32m    407\u001b[0m         \u001b[1;32mfrom\u001b[0m \u001b[1;33m.\u001b[0m\u001b[0mmetrics\u001b[0m\u001b[1;33m.\u001b[0m\u001b[0mregression\u001b[0m \u001b[1;32mimport\u001b[0m \u001b[0m_check_reg_targets\u001b[0m\u001b[1;33m\u001b[0m\u001b[1;33m\u001b[0m\u001b[0m\n\u001b[1;32m--> 408\u001b[1;33m         \u001b[0my_pred\u001b[0m \u001b[1;33m=\u001b[0m \u001b[0mself\u001b[0m\u001b[1;33m.\u001b[0m\u001b[0mpredict\u001b[0m\u001b[1;33m(\u001b[0m\u001b[0mX\u001b[0m\u001b[1;33m)\u001b[0m\u001b[1;33m\u001b[0m\u001b[1;33m\u001b[0m\u001b[0m\n\u001b[0m\u001b[0;32m    409\u001b[0m         \u001b[1;31m# XXX: Remove the check in 0.23\u001b[0m\u001b[1;33m\u001b[0m\u001b[1;33m\u001b[0m\u001b[1;33m\u001b[0m\u001b[0m\n\u001b[0;32m    410\u001b[0m         \u001b[0my_type\u001b[0m\u001b[1;33m,\u001b[0m \u001b[0m_\u001b[0m\u001b[1;33m,\u001b[0m \u001b[0m_\u001b[0m\u001b[1;33m,\u001b[0m \u001b[0m_\u001b[0m \u001b[1;33m=\u001b[0m \u001b[0m_check_reg_targets\u001b[0m\u001b[1;33m(\u001b[0m\u001b[0my\u001b[0m\u001b[1;33m,\u001b[0m \u001b[0my_pred\u001b[0m\u001b[1;33m,\u001b[0m \u001b[1;32mNone\u001b[0m\u001b[1;33m)\u001b[0m\u001b[1;33m\u001b[0m\u001b[1;33m\u001b[0m\u001b[0m\n",
      "\u001b[1;32m~\\Anaconda3\\lib\\site-packages\\sklearn\\linear_model\\base.py\u001b[0m in \u001b[0;36mpredict\u001b[1;34m(self, X)\u001b[0m\n\u001b[0;32m    219\u001b[0m             \u001b[0mReturns\u001b[0m \u001b[0mpredicted\u001b[0m \u001b[0mvalues\u001b[0m\u001b[1;33m.\u001b[0m\u001b[1;33m\u001b[0m\u001b[1;33m\u001b[0m\u001b[0m\n\u001b[0;32m    220\u001b[0m         \"\"\"\n\u001b[1;32m--> 221\u001b[1;33m         \u001b[1;32mreturn\u001b[0m \u001b[0mself\u001b[0m\u001b[1;33m.\u001b[0m\u001b[0m_decision_function\u001b[0m\u001b[1;33m(\u001b[0m\u001b[0mX\u001b[0m\u001b[1;33m)\u001b[0m\u001b[1;33m\u001b[0m\u001b[1;33m\u001b[0m\u001b[0m\n\u001b[0m\u001b[0;32m    222\u001b[0m \u001b[1;33m\u001b[0m\u001b[0m\n\u001b[0;32m    223\u001b[0m     \u001b[0m_preprocess_data\u001b[0m \u001b[1;33m=\u001b[0m \u001b[0mstaticmethod\u001b[0m\u001b[1;33m(\u001b[0m\u001b[0m_preprocess_data\u001b[0m\u001b[1;33m)\u001b[0m\u001b[1;33m\u001b[0m\u001b[1;33m\u001b[0m\u001b[0m\n",
      "\u001b[1;32m~\\Anaconda3\\lib\\site-packages\\sklearn\\linear_model\\base.py\u001b[0m in \u001b[0;36m_decision_function\u001b[1;34m(self, X)\u001b[0m\n\u001b[0;32m    204\u001b[0m         \u001b[0mX\u001b[0m \u001b[1;33m=\u001b[0m \u001b[0mcheck_array\u001b[0m\u001b[1;33m(\u001b[0m\u001b[0mX\u001b[0m\u001b[1;33m,\u001b[0m \u001b[0maccept_sparse\u001b[0m\u001b[1;33m=\u001b[0m\u001b[1;33m[\u001b[0m\u001b[1;34m'csr'\u001b[0m\u001b[1;33m,\u001b[0m \u001b[1;34m'csc'\u001b[0m\u001b[1;33m,\u001b[0m \u001b[1;34m'coo'\u001b[0m\u001b[1;33m]\u001b[0m\u001b[1;33m)\u001b[0m\u001b[1;33m\u001b[0m\u001b[1;33m\u001b[0m\u001b[0m\n\u001b[0;32m    205\u001b[0m         return safe_sparse_dot(X, self.coef_.T,\n\u001b[1;32m--> 206\u001b[1;33m                                dense_output=True) + self.intercept_\n\u001b[0m\u001b[0;32m    207\u001b[0m \u001b[1;33m\u001b[0m\u001b[0m\n\u001b[0;32m    208\u001b[0m     \u001b[1;32mdef\u001b[0m \u001b[0mpredict\u001b[0m\u001b[1;33m(\u001b[0m\u001b[0mself\u001b[0m\u001b[1;33m,\u001b[0m \u001b[0mX\u001b[0m\u001b[1;33m)\u001b[0m\u001b[1;33m:\u001b[0m\u001b[1;33m\u001b[0m\u001b[1;33m\u001b[0m\u001b[0m\n",
      "\u001b[1;32m~\\Anaconda3\\lib\\site-packages\\sklearn\\utils\\extmath.py\u001b[0m in \u001b[0;36msafe_sparse_dot\u001b[1;34m(a, b, dense_output)\u001b[0m\n\u001b[0;32m    140\u001b[0m         \u001b[1;32mreturn\u001b[0m \u001b[0mret\u001b[0m\u001b[1;33m\u001b[0m\u001b[1;33m\u001b[0m\u001b[0m\n\u001b[0;32m    141\u001b[0m     \u001b[1;32melse\u001b[0m\u001b[1;33m:\u001b[0m\u001b[1;33m\u001b[0m\u001b[1;33m\u001b[0m\u001b[0m\n\u001b[1;32m--> 142\u001b[1;33m         \u001b[1;32mreturn\u001b[0m \u001b[0mnp\u001b[0m\u001b[1;33m.\u001b[0m\u001b[0mdot\u001b[0m\u001b[1;33m(\u001b[0m\u001b[0ma\u001b[0m\u001b[1;33m,\u001b[0m \u001b[0mb\u001b[0m\u001b[1;33m)\u001b[0m\u001b[1;33m\u001b[0m\u001b[1;33m\u001b[0m\u001b[0m\n\u001b[0m\u001b[0;32m    143\u001b[0m \u001b[1;33m\u001b[0m\u001b[0m\n\u001b[0;32m    144\u001b[0m \u001b[1;33m\u001b[0m\u001b[0m\n",
      "\u001b[1;31mValueError\u001b[0m: shapes (58,1) and (2,1) not aligned: 1 (dim 1) != 2 (dim 0)"
     ]
    }
   ],
   "source": [
    "model.score(preds,Y_test)"
   ]
  },
  {
   "cell_type": "code",
   "execution_count": 190,
   "metadata": {},
   "outputs": [
    {
     "name": "stderr",
     "output_type": "stream",
     "text": [
      "C:\\Users\\user\\Anaconda3\\lib\\site-packages\\sklearn\\ensemble\\forest.py:245: FutureWarning: The default value of n_estimators will change from 10 in version 0.20 to 100 in 0.22.\n",
      "  \"10 in version 0.20 to 100 in 0.22.\", FutureWarning)\n",
      "C:\\Users\\user\\Anaconda3\\lib\\site-packages\\ipykernel_launcher.py:3: DataConversionWarning: A column-vector y was passed when a 1d array was expected. Please change the shape of y to (n_samples,), for example using ravel().\n",
      "  This is separate from the ipykernel package so we can avoid doing imports until\n"
     ]
    }
   ],
   "source": [
    "from sklearn.ensemble import RandomForestRegressor\n",
    "model = RandomForestRegressor()\n",
    "model.fit(X_train,Y_train)\n",
    "preds = model.predict(X_test)"
   ]
  },
  {
   "cell_type": "code",
   "execution_count": 191,
   "metadata": {},
   "outputs": [],
   "source": [
    "from sklearn.metrics import r2_score,mean_squared_error\n",
    "from math import sqrt"
   ]
  },
  {
   "cell_type": "code",
   "execution_count": 192,
   "metadata": {},
   "outputs": [
    {
     "name": "stdout",
     "output_type": "stream",
     "text": [
      "0.9471656962789674\n",
      "2186921.5396263083\n"
     ]
    }
   ],
   "source": [
    "print(r2_score(Y_test,preds))\n",
    "print(sqrt(mean_squared_error(Y_test,preds)))"
   ]
  },
  {
   "cell_type": "code",
   "execution_count": null,
   "metadata": {},
   "outputs": [],
   "source": []
  }
 ],
 "metadata": {
  "kernelspec": {
   "display_name": "Python 3",
   "language": "python",
   "name": "python3"
  },
  "language_info": {
   "codemirror_mode": {
    "name": "ipython",
    "version": 3
   },
   "file_extension": ".py",
   "mimetype": "text/x-python",
   "name": "python",
   "nbconvert_exporter": "python",
   "pygments_lexer": "ipython3",
   "version": "3.7.4"
  }
 },
 "nbformat": 4,
 "nbformat_minor": 2
}
